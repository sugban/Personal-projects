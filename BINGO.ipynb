{
  "nbformat": 4,
  "nbformat_minor": 0,
  "metadata": {
    "colab": {
      "name": "BINGO",
      "provenance": [],
      "authorship_tag": "ABX9TyNw/U2SaZ+MBafQ67RTW05S",
      "include_colab_link": true
    },
    "kernelspec": {
      "name": "python3",
      "display_name": "Python 3"
    },
    "language_info": {
      "name": "python"
    }
  },
  "cells": [
    {
      "cell_type": "markdown",
      "metadata": {
        "id": "view-in-github",
        "colab_type": "text"
      },
      "source": [
        "<a href=\"https://colab.research.google.com/github/sugban/Personal-projects/blob/main/BINGO.ipynb\" target=\"_parent\"><img src=\"https://colab.research.google.com/assets/colab-badge.svg\" alt=\"Open In Colab\"/></a>"
      ]
    },
    {
      "cell_type": "code",
      "metadata": {
        "id": "vqDhNFmQbirG"
      },
      "source": [
        "import random\n",
        "import numpy as np"
      ],
      "execution_count": 229,
      "outputs": []
    },
    {
      "cell_type": "code",
      "metadata": {
        "colab": {
          "base_uri": "https://localhost:8080/"
        },
        "id": "Xm7kfAoFe-r1",
        "outputId": "9a25bd02-5b0d-4c97-bad1-06c00fbdc6c8"
      },
      "source": [
        "word1 = ['sun','right','I','one','Buy','Tie','Die','know','whole']\n",
        "word2 = ['son','write','Eye','Won','Bye','Tye','Dye','No','Hole']\n",
        "pair = []\n",
        "for i in range(10):\n",
        "    pair.append(random.choice(word1))\n",
        "    pair.append(random.choice(word2))\n",
        "\n",
        "print(pair)"
      ],
      "execution_count": 230,
      "outputs": [
        {
          "output_type": "stream",
          "text": [
            "['one', 'write', 'right', 'Eye', 'whole', 'No', 'Tie', 'Hole', 'I', 'write', 'Tie', 'son', 'Buy', 'Tye', 'one', 'Dye', 'Die', 'Dye', 'one', 'Tye']\n"
          ],
          "name": "stdout"
        }
      ]
    },
    {
      "cell_type": "code",
      "metadata": {
        "colab": {
          "base_uri": "https://localhost:8080/"
        },
        "id": "4c0n7nDNfM-h",
        "outputId": "ff49f477-9f02-41f9-c9d6-eccd45e6b7ec"
      },
      "source": [
        "from numpy import random\n",
        "\n",
        "x = random.randint(1,100, size=(4, 5))\n",
        "\n",
        "x= np.sort(x)\n",
        "y =np.array([[pair[:5]],[pair[5:10]],[pair[10:15]],[pair[15:20]]])\n",
        "print(x)\n",
        "print(y)"
      ],
      "execution_count": 231,
      "outputs": [
        {
          "output_type": "stream",
          "text": [
            "[[19 41 50 77 91]\n",
            " [ 3 13 24 67 97]\n",
            " [ 9 12 28 73 86]\n",
            " [51 56 65 70 89]]\n",
            "[[['one' 'write' 'right' 'Eye' 'whole']]\n",
            "\n",
            " [['No' 'Tie' 'Hole' 'I' 'write']]\n",
            "\n",
            " [['Tie' 'son' 'Buy' 'Tye' 'one']]\n",
            "\n",
            " [['Dye' 'Die' 'Dye' 'one' 'Tye']]]\n"
          ],
          "name": "stdout"
        }
      ]
    },
    {
      "cell_type": "code",
      "metadata": {
        "colab": {
          "base_uri": "https://localhost:8080/"
        },
        "id": "t__WgoU3DDGq",
        "outputId": "193dfa66-cb8c-4e2e-b9f5-60d3ec353840"
      },
      "source": [
        "print(x.shape)\n",
        "x = x.reshape((x.shape[0], x.shape[1], 1))\n",
        "print(x.shape)\n",
        "print(y.shape)"
      ],
      "execution_count": 232,
      "outputs": [
        {
          "output_type": "stream",
          "text": [
            "(4, 5)\n",
            "(4, 5, 1)\n",
            "(4, 1, 5)\n"
          ],
          "name": "stdout"
        }
      ]
    },
    {
      "cell_type": "code",
      "metadata": {
        "colab": {
          "base_uri": "https://localhost:8080/"
        },
        "id": "1Y107JFnGbIp",
        "outputId": "02ade5bf-2ad2-41ea-fb2a-5a4847547037"
      },
      "source": [
        "x = x.reshape(4,1,5)\n",
        "print(x.shape)\n",
        "print(y.shape)\n"
      ],
      "execution_count": 233,
      "outputs": [
        {
          "output_type": "stream",
          "text": [
            "(4, 1, 5)\n",
            "(4, 1, 5)\n"
          ],
          "name": "stdout"
        }
      ]
    },
    {
      "cell_type": "code",
      "metadata": {
        "colab": {
          "base_uri": "https://localhost:8080/"
        },
        "id": "0WsTcYIAgok6",
        "outputId": "2b42f807-f018-43f4-84cd-a08fb75e53c6"
      },
      "source": [
        "slip = np.hstack((x, y))\n",
        "print(slip)"
      ],
      "execution_count": 234,
      "outputs": [
        {
          "output_type": "stream",
          "text": [
            "[[['19' '41' '50' '77' '91']\n",
            "  ['one' 'write' 'right' 'Eye' 'whole']]\n",
            "\n",
            " [['3' '13' '24' '67' '97']\n",
            "  ['No' 'Tie' 'Hole' 'I' 'write']]\n",
            "\n",
            " [['9' '12' '28' '73' '86']\n",
            "  ['Tie' 'son' 'Buy' 'Tye' 'one']]\n",
            "\n",
            " [['51' '56' '65' '70' '89']\n",
            "  ['Dye' 'Die' 'Dye' 'one' 'Tye']]]\n"
          ],
          "name": "stdout"
        }
      ]
    },
    {
      "cell_type": "code",
      "metadata": {
        "colab": {
          "base_uri": "https://localhost:8080/"
        },
        "id": "_Z1XX252IMXX",
        "outputId": "4b8ba8d7-e5d2-4c3f-87b4-9322cf50c309"
      },
      "source": [
        "print(slip.shape)\n",
        "newarr = slip.reshape(8,5*1)\n",
        "print(newarr)"
      ],
      "execution_count": 235,
      "outputs": [
        {
          "output_type": "stream",
          "text": [
            "(4, 2, 5)\n",
            "[['19' '41' '50' '77' '91']\n",
            " ['one' 'write' 'right' 'Eye' 'whole']\n",
            " ['3' '13' '24' '67' '97']\n",
            " ['No' 'Tie' 'Hole' 'I' 'write']\n",
            " ['9' '12' '28' '73' '86']\n",
            " ['Tie' 'son' 'Buy' 'Tye' 'one']\n",
            " ['51' '56' '65' '70' '89']\n",
            " ['Dye' 'Die' 'Dye' 'one' 'Tye']]\n"
          ],
          "name": "stdout"
        }
      ]
    },
    {
      "cell_type": "code",
      "metadata": {
        "colab": {
          "base_uri": "https://localhost:8080/"
        },
        "id": "SEdRJ1rrH3av",
        "outputId": "1e22de09-5629-45a8-e574-c2cedc1d16a4"
      },
      "source": [
        "import pandas as pd\n",
        "from google.colab import drive\n",
        "drive.mount('/content/drive')"
      ],
      "execution_count": 236,
      "outputs": [
        {
          "output_type": "stream",
          "text": [
            "Drive already mounted at /content/drive; to attempt to forcibly remount, call drive.mount(\"/content/drive\", force_remount=True).\n"
          ],
          "name": "stdout"
        }
      ]
    },
    {
      "cell_type": "code",
      "metadata": {
        "id": "JFp7ZFbyMvMN"
      },
      "source": [
        "#!ls \"/content/drive/My Drive\""
      ],
      "execution_count": 237,
      "outputs": []
    },
    {
      "cell_type": "code",
      "metadata": {
        "id": "RZjj7nVtJzXt"
      },
      "source": [
        "df = pd.DataFrame(data = newarr)\n",
        "df.set_index(0).to_excel('/content/drive/My Drive/Bingo.xlsx')"
      ],
      "execution_count": 240,
      "outputs": []
    },
    {
      "cell_type": "code",
      "metadata": {
        "colab": {
          "base_uri": "https://localhost:8080/",
          "height": 297
        },
        "id": "24713cozJ-bd",
        "outputId": "2defcbc1-b8d9-4837-ebee-892357a09b80"
      },
      "source": [
        "df = pd.read_excel('/content/drive/My Drive/Bingo.xlsx')\n",
        "df"
      ],
      "execution_count": 241,
      "outputs": [
        {
          "output_type": "execute_result",
          "data": {
            "text/html": [
              "<div>\n",
              "<style scoped>\n",
              "    .dataframe tbody tr th:only-of-type {\n",
              "        vertical-align: middle;\n",
              "    }\n",
              "\n",
              "    .dataframe tbody tr th {\n",
              "        vertical-align: top;\n",
              "    }\n",
              "\n",
              "    .dataframe thead th {\n",
              "        text-align: right;\n",
              "    }\n",
              "</style>\n",
              "<table border=\"1\" class=\"dataframe\">\n",
              "  <thead>\n",
              "    <tr style=\"text-align: right;\">\n",
              "      <th></th>\n",
              "      <th>Unnamed: 0</th>\n",
              "      <th>1</th>\n",
              "      <th>2</th>\n",
              "      <th>3</th>\n",
              "      <th>4</th>\n",
              "    </tr>\n",
              "  </thead>\n",
              "  <tbody>\n",
              "    <tr>\n",
              "      <th>0</th>\n",
              "      <td>19</td>\n",
              "      <td>41</td>\n",
              "      <td>50</td>\n",
              "      <td>77</td>\n",
              "      <td>91</td>\n",
              "    </tr>\n",
              "    <tr>\n",
              "      <th>1</th>\n",
              "      <td>one</td>\n",
              "      <td>write</td>\n",
              "      <td>right</td>\n",
              "      <td>Eye</td>\n",
              "      <td>whole</td>\n",
              "    </tr>\n",
              "    <tr>\n",
              "      <th>2</th>\n",
              "      <td>3</td>\n",
              "      <td>13</td>\n",
              "      <td>24</td>\n",
              "      <td>67</td>\n",
              "      <td>97</td>\n",
              "    </tr>\n",
              "    <tr>\n",
              "      <th>3</th>\n",
              "      <td>No</td>\n",
              "      <td>Tie</td>\n",
              "      <td>Hole</td>\n",
              "      <td>I</td>\n",
              "      <td>write</td>\n",
              "    </tr>\n",
              "    <tr>\n",
              "      <th>4</th>\n",
              "      <td>9</td>\n",
              "      <td>12</td>\n",
              "      <td>28</td>\n",
              "      <td>73</td>\n",
              "      <td>86</td>\n",
              "    </tr>\n",
              "    <tr>\n",
              "      <th>5</th>\n",
              "      <td>Tie</td>\n",
              "      <td>son</td>\n",
              "      <td>Buy</td>\n",
              "      <td>Tye</td>\n",
              "      <td>one</td>\n",
              "    </tr>\n",
              "    <tr>\n",
              "      <th>6</th>\n",
              "      <td>51</td>\n",
              "      <td>56</td>\n",
              "      <td>65</td>\n",
              "      <td>70</td>\n",
              "      <td>89</td>\n",
              "    </tr>\n",
              "    <tr>\n",
              "      <th>7</th>\n",
              "      <td>Dye</td>\n",
              "      <td>Die</td>\n",
              "      <td>Dye</td>\n",
              "      <td>one</td>\n",
              "      <td>Tye</td>\n",
              "    </tr>\n",
              "  </tbody>\n",
              "</table>\n",
              "</div>"
            ],
            "text/plain": [
              "  Unnamed: 0      1      2    3      4\n",
              "0         19     41     50   77     91\n",
              "1        one  write  right  Eye  whole\n",
              "2          3     13     24   67     97\n",
              "3         No    Tie   Hole    I  write\n",
              "4          9     12     28   73     86\n",
              "5        Tie    son    Buy  Tye    one\n",
              "6         51     56     65   70     89\n",
              "7        Dye    Die    Dye  one    Tye"
            ]
          },
          "metadata": {
            "tags": []
          },
          "execution_count": 241
        }
      ]
    },
    {
      "cell_type": "code",
      "metadata": {
        "id": "aavMaQhzZfQz"
      },
      "source": [
        ""
      ],
      "execution_count": 239,
      "outputs": []
    }
  ]
}