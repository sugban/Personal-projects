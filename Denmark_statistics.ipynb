{
  "nbformat": 4,
  "nbformat_minor": 0,
  "metadata": {
    "colab": {
      "name": "Denmark statistics",
      "provenance": [],
      "collapsed_sections": [],
      "authorship_tag": "ABX9TyNVgF/hGEDiWzhG5yHnzUg6",
      "include_colab_link": true
    },
    "kernelspec": {
      "name": "python3",
      "display_name": "Python 3"
    },
    "language_info": {
      "name": "python"
    }
  },
  "cells": [
    {
      "cell_type": "markdown",
      "metadata": {
        "id": "view-in-github",
        "colab_type": "text"
      },
      "source": [
        "<a href=\"https://colab.research.google.com/github/sugban/Personal-projects/blob/main/Denmark_statistics.ipynb\" target=\"_parent\"><img src=\"https://colab.research.google.com/assets/colab-badge.svg\" alt=\"Open In Colab\"/></a>"
      ]
    },
    {
      "cell_type": "code",
      "metadata": {
        "colab": {
          "base_uri": "https://localhost:8080/"
        },
        "id": "2T29asXidnVX",
        "outputId": "7cee871c-fe0b-411e-b4e0-c80bb3364410"
      },
      "source": [
        "!pip install html-table-parser-python3\n",
        "!pip install geocoder"
      ],
      "execution_count": 97,
      "outputs": [
        {
          "output_type": "stream",
          "text": [
            "Requirement already satisfied: html-table-parser-python3 in /usr/local/lib/python3.7/dist-packages (0.2.0)\n",
            "Collecting geocoder\n",
            "\u001b[?25l  Downloading https://files.pythonhosted.org/packages/4f/6b/13166c909ad2f2d76b929a4227c952630ebaf0d729f6317eb09cbceccbab/geocoder-1.38.1-py2.py3-none-any.whl (98kB)\n",
            "\u001b[K     |████████████████████████████████| 102kB 3.0MB/s \n",
            "\u001b[?25hRequirement already satisfied: requests in /usr/local/lib/python3.7/dist-packages (from geocoder) (2.23.0)\n",
            "Requirement already satisfied: click in /usr/local/lib/python3.7/dist-packages (from geocoder) (7.1.2)\n",
            "Collecting ratelim\n",
            "  Downloading https://files.pythonhosted.org/packages/f2/98/7e6d147fd16a10a5f821db6e25f192265d6ecca3d82957a4fdd592cad49c/ratelim-0.1.6-py2.py3-none-any.whl\n",
            "Requirement already satisfied: future in /usr/local/lib/python3.7/dist-packages (from geocoder) (0.16.0)\n",
            "Requirement already satisfied: six in /usr/local/lib/python3.7/dist-packages (from geocoder) (1.15.0)\n",
            "Requirement already satisfied: certifi>=2017.4.17 in /usr/local/lib/python3.7/dist-packages (from requests->geocoder) (2021.5.30)\n",
            "Requirement already satisfied: urllib3!=1.25.0,!=1.25.1,<1.26,>=1.21.1 in /usr/local/lib/python3.7/dist-packages (from requests->geocoder) (1.24.3)\n",
            "Requirement already satisfied: chardet<4,>=3.0.2 in /usr/local/lib/python3.7/dist-packages (from requests->geocoder) (3.0.4)\n",
            "Requirement already satisfied: idna<3,>=2.5 in /usr/local/lib/python3.7/dist-packages (from requests->geocoder) (2.10)\n",
            "Requirement already satisfied: decorator in /usr/local/lib/python3.7/dist-packages (from ratelim->geocoder) (4.4.2)\n",
            "Installing collected packages: ratelim, geocoder\n",
            "Successfully installed geocoder-1.38.1 ratelim-0.1.6\n"
          ],
          "name": "stdout"
        }
      ]
    },
    {
      "cell_type": "code",
      "metadata": {
        "id": "wCyQIrBOg94l"
      },
      "source": [
        "# Library for opening url and creating requests\n",
        "import urllib.request\n",
        " \n",
        "# pretty-print python data structures\n",
        "from pprint import pprint\n",
        " \n",
        "# for parsing all the tables present on the website\n",
        "from html_table_parser.parser import HTMLTableParser\n",
        " \n",
        "# for converting the parsed data in a pandas dataframe\n",
        "import pandas as pd \n",
        " \n",
        "import seaborn as sns\n",
        " \n",
        "# importing matplotlib module for visualization\n",
        "import matplotlib.pyplot as plt"
      ],
      "execution_count": 3,
      "outputs": []
    },
    {
      "cell_type": "code",
      "metadata": {
        "id": "J6lLVnXdhGty"
      },
      "source": [
        "# Opens a website and read its binary contents (HTTP Response Body)\n",
        "def url_get_contents(url):\n",
        " \n",
        "    # making request to the website\n",
        "    req = urllib.request.Request(url=url)\n",
        "    f = urllib.request.urlopen(req)\n",
        " \n",
        "    # reading contents of the website\n",
        "    return f.read()"
      ],
      "execution_count": 4,
      "outputs": []
    },
    {
      "cell_type": "code",
      "metadata": {
        "id": "kOd5viTJhMT7"
      },
      "source": [
        "# defining the html contents of a URL.\n",
        "xhtml = url_get_contents('https://www.statista.com/statistics/570358/total-population-in-denmark-by-gender/').decode('utf-8')"
      ],
      "execution_count": 5,
      "outputs": []
    },
    {
      "cell_type": "code",
      "metadata": {
        "colab": {
          "base_uri": "https://localhost:8080/",
          "height": 517
        },
        "id": "-20-VeazeUQH",
        "outputId": "9f1217e7-87f6-47ae-8b40-159d4c75bc6e"
      },
      "source": [
        "# Defining the HTMLTableParser object\n",
        "p = HTMLTableParser()\n",
        " \n",
        "# feeding the html contents in the HTMLTableParser object\n",
        "p.feed(xhtml)\n",
        " \n",
        "# Now finally obtaining the data of the table required\n",
        "table = p.tables[0]\n",
        "#pprint(table)\n",
        "\n",
        "# converting the parsed data to datframe\n",
        "print(\"\\n\\nPANDAS DATAFRAME\\n\")\n",
        "df_gender = pd.DataFrame(table)\n",
        "df_gender.set_index(0)"
      ],
      "execution_count": 6,
      "outputs": [
        {
          "output_type": "stream",
          "text": [
            "\n",
            "\n",
            "PANDAS DATAFRAME\n",
            "\n"
          ],
          "name": "stdout"
        },
        {
          "output_type": "execute_result",
          "data": {
            "text/html": [
              "<div>\n",
              "<style scoped>\n",
              "    .dataframe tbody tr th:only-of-type {\n",
              "        vertical-align: middle;\n",
              "    }\n",
              "\n",
              "    .dataframe tbody tr th {\n",
              "        vertical-align: top;\n",
              "    }\n",
              "\n",
              "    .dataframe thead th {\n",
              "        text-align: right;\n",
              "    }\n",
              "</style>\n",
              "<table border=\"1\" class=\"dataframe\">\n",
              "  <thead>\n",
              "    <tr style=\"text-align: right;\">\n",
              "      <th></th>\n",
              "      <th>1</th>\n",
              "      <th>2</th>\n",
              "    </tr>\n",
              "    <tr>\n",
              "      <th>0</th>\n",
              "      <th></th>\n",
              "      <th></th>\n",
              "    </tr>\n",
              "  </thead>\n",
              "  <tbody>\n",
              "    <tr>\n",
              "      <th>Characteristic</th>\n",
              "      <td>Male</td>\n",
              "      <td>Female</td>\n",
              "    </tr>\n",
              "    <tr>\n",
              "      <th>2021</th>\n",
              "      <td>2.91</td>\n",
              "      <td>2.94</td>\n",
              "    </tr>\n",
              "    <tr>\n",
              "      <th>2020</th>\n",
              "      <td>2.9</td>\n",
              "      <td>2.93</td>\n",
              "    </tr>\n",
              "    <tr>\n",
              "      <th>2019</th>\n",
              "      <td>2.89</td>\n",
              "      <td>2.92</td>\n",
              "    </tr>\n",
              "    <tr>\n",
              "      <th>2018</th>\n",
              "      <td>2.88</td>\n",
              "      <td>2.91</td>\n",
              "    </tr>\n",
              "    <tr>\n",
              "      <th>2017</th>\n",
              "      <td>2.86</td>\n",
              "      <td>2.89</td>\n",
              "    </tr>\n",
              "    <tr>\n",
              "      <th>2016</th>\n",
              "      <td>2.84</td>\n",
              "      <td>2.87</td>\n",
              "    </tr>\n",
              "    <tr>\n",
              "      <th>2015</th>\n",
              "      <td>2.81</td>\n",
              "      <td>2.85</td>\n",
              "    </tr>\n",
              "    <tr>\n",
              "      <th>2014</th>\n",
              "      <td>2.79</td>\n",
              "      <td>2.83</td>\n",
              "    </tr>\n",
              "    <tr>\n",
              "      <th>2013</th>\n",
              "      <td>2.78</td>\n",
              "      <td>2.82</td>\n",
              "    </tr>\n",
              "    <tr>\n",
              "      <th>2012</th>\n",
              "      <td>2.77</td>\n",
              "      <td>2.81</td>\n",
              "    </tr>\n",
              "    <tr>\n",
              "      <th>2011</th>\n",
              "      <td>2.76</td>\n",
              "      <td>2.8</td>\n",
              "    </tr>\n",
              "  </tbody>\n",
              "</table>\n",
              "</div>"
            ],
            "text/plain": [
              "                   1       2\n",
              "0                           \n",
              "Characteristic  Male  Female\n",
              "2021            2.91    2.94\n",
              "2020             2.9    2.93\n",
              "2019            2.89    2.92\n",
              "2018            2.88    2.91\n",
              "2017            2.86    2.89\n",
              "2016            2.84    2.87\n",
              "2015            2.81    2.85\n",
              "2014            2.79    2.83\n",
              "2013            2.78    2.82\n",
              "2012            2.77    2.81\n",
              "2011            2.76     2.8"
            ]
          },
          "metadata": {
            "tags": []
          },
          "execution_count": 6
        }
      ]
    },
    {
      "cell_type": "code",
      "metadata": {
        "id": "FNhv6KJieHT1"
      },
      "source": [
        "df_gender.set_index(0).to_excel('gender base population in denmark.xlsx')"
      ],
      "execution_count": 7,
      "outputs": []
    },
    {
      "cell_type": "code",
      "metadata": {
        "colab": {
          "base_uri": "https://localhost:8080/"
        },
        "id": "8Ce7LwZJvTSO",
        "outputId": "bc92aaa0-36a9-4054-c441-c03da8db4e00"
      },
      "source": [
        "from google.colab import drive\n",
        "drive.mount('/content/drive')"
      ],
      "execution_count": 8,
      "outputs": [
        {
          "output_type": "stream",
          "text": [
            "Mounted at /content/drive\n"
          ],
          "name": "stdout"
        }
      ]
    },
    {
      "cell_type": "code",
      "metadata": {
        "colab": {
          "base_uri": "https://localhost:8080/"
        },
        "id": "tUWOIhJRzwnT",
        "outputId": "7863865e-2413-471a-a6fe-986b40e4e235"
      },
      "source": [
        "!ls \"/content/drive/My Drive/PYTHON   SQL   EXCEL\""
      ],
      "execution_count": 9,
      "outputs": [
        {
          "output_type": "stream",
          "text": [
            " color_data.csv\t\t\t\t\t\t    notebook.ipynb\n",
            "'Denmark_Crime_Regionwise - Denmark_Crime_Regionwise.csv'   postcode1.xlsx\n",
            " DKpopulation.xlsx\t\t\t\t\t    postcode.xlsx\n",
            " netflix_data.csv\n"
          ],
          "name": "stdout"
        }
      ]
    },
    {
      "cell_type": "code",
      "metadata": {
        "colab": {
          "base_uri": "https://localhost:8080/",
          "height": 388
        },
        "id": "sDZMQJWZmBGh",
        "outputId": "0e5efad3-3720-4db3-a453-bf2e4837ccd6"
      },
      "source": [
        "df = pd.read_excel('gender base population in denmark.xlsx',header = 1)\n",
        "df['Total_Population'] = df['Male'] + df['Female']\n",
        "df.rename(columns = {'Characteristic':'Years'}, inplace = True)\n",
        "df.to_excel('/content/drive/My Drive/PYTHON   SQL   EXCEL/DKpopulation.xlsx')\n",
        "df"
      ],
      "execution_count": 10,
      "outputs": [
        {
          "output_type": "execute_result",
          "data": {
            "text/html": [
              "<div>\n",
              "<style scoped>\n",
              "    .dataframe tbody tr th:only-of-type {\n",
              "        vertical-align: middle;\n",
              "    }\n",
              "\n",
              "    .dataframe tbody tr th {\n",
              "        vertical-align: top;\n",
              "    }\n",
              "\n",
              "    .dataframe thead th {\n",
              "        text-align: right;\n",
              "    }\n",
              "</style>\n",
              "<table border=\"1\" class=\"dataframe\">\n",
              "  <thead>\n",
              "    <tr style=\"text-align: right;\">\n",
              "      <th></th>\n",
              "      <th>Years</th>\n",
              "      <th>Male</th>\n",
              "      <th>Female</th>\n",
              "      <th>Total_Population</th>\n",
              "    </tr>\n",
              "  </thead>\n",
              "  <tbody>\n",
              "    <tr>\n",
              "      <th>0</th>\n",
              "      <td>2021</td>\n",
              "      <td>2.91</td>\n",
              "      <td>2.94</td>\n",
              "      <td>5.85</td>\n",
              "    </tr>\n",
              "    <tr>\n",
              "      <th>1</th>\n",
              "      <td>2020</td>\n",
              "      <td>2.90</td>\n",
              "      <td>2.93</td>\n",
              "      <td>5.83</td>\n",
              "    </tr>\n",
              "    <tr>\n",
              "      <th>2</th>\n",
              "      <td>2019</td>\n",
              "      <td>2.89</td>\n",
              "      <td>2.92</td>\n",
              "      <td>5.81</td>\n",
              "    </tr>\n",
              "    <tr>\n",
              "      <th>3</th>\n",
              "      <td>2018</td>\n",
              "      <td>2.88</td>\n",
              "      <td>2.91</td>\n",
              "      <td>5.79</td>\n",
              "    </tr>\n",
              "    <tr>\n",
              "      <th>4</th>\n",
              "      <td>2017</td>\n",
              "      <td>2.86</td>\n",
              "      <td>2.89</td>\n",
              "      <td>5.75</td>\n",
              "    </tr>\n",
              "    <tr>\n",
              "      <th>5</th>\n",
              "      <td>2016</td>\n",
              "      <td>2.84</td>\n",
              "      <td>2.87</td>\n",
              "      <td>5.71</td>\n",
              "    </tr>\n",
              "    <tr>\n",
              "      <th>6</th>\n",
              "      <td>2015</td>\n",
              "      <td>2.81</td>\n",
              "      <td>2.85</td>\n",
              "      <td>5.66</td>\n",
              "    </tr>\n",
              "    <tr>\n",
              "      <th>7</th>\n",
              "      <td>2014</td>\n",
              "      <td>2.79</td>\n",
              "      <td>2.83</td>\n",
              "      <td>5.62</td>\n",
              "    </tr>\n",
              "    <tr>\n",
              "      <th>8</th>\n",
              "      <td>2013</td>\n",
              "      <td>2.78</td>\n",
              "      <td>2.82</td>\n",
              "      <td>5.60</td>\n",
              "    </tr>\n",
              "    <tr>\n",
              "      <th>9</th>\n",
              "      <td>2012</td>\n",
              "      <td>2.77</td>\n",
              "      <td>2.81</td>\n",
              "      <td>5.58</td>\n",
              "    </tr>\n",
              "    <tr>\n",
              "      <th>10</th>\n",
              "      <td>2011</td>\n",
              "      <td>2.76</td>\n",
              "      <td>2.80</td>\n",
              "      <td>5.56</td>\n",
              "    </tr>\n",
              "  </tbody>\n",
              "</table>\n",
              "</div>"
            ],
            "text/plain": [
              "    Years  Male  Female  Total_Population\n",
              "0    2021  2.91    2.94              5.85\n",
              "1    2020  2.90    2.93              5.83\n",
              "2    2019  2.89    2.92              5.81\n",
              "3    2018  2.88    2.91              5.79\n",
              "4    2017  2.86    2.89              5.75\n",
              "5    2016  2.84    2.87              5.71\n",
              "6    2015  2.81    2.85              5.66\n",
              "7    2014  2.79    2.83              5.62\n",
              "8    2013  2.78    2.82              5.60\n",
              "9    2012  2.77    2.81              5.58\n",
              "10   2011  2.76    2.80              5.56"
            ]
          },
          "metadata": {
            "tags": []
          },
          "execution_count": 10
        }
      ]
    },
    {
      "cell_type": "code",
      "metadata": {
        "id": "7o_4iZcPpfv5"
      },
      "source": [
        "xhtml1 = url_get_contents('https://www.statista.com/statistics/570654/total-population-in-denmark-by-age/').decode('utf-8')"
      ],
      "execution_count": 11,
      "outputs": []
    },
    {
      "cell_type": "code",
      "metadata": {
        "colab": {
          "base_uri": "https://localhost:8080/"
        },
        "id": "SCnK0-YSp37B",
        "outputId": "0fa89d9c-9536-4904-94b5-432f38642116"
      },
      "source": [
        "# Defining the HTMLTableParser object\n",
        "p = HTMLTableParser()\n",
        " \n",
        "# feeding the html contents in the HTMLTableParser object\n",
        "p.feed(xhtml1)\n",
        " \n",
        "# Now finally obtaining the data of the table required\n",
        "table1 = p.tables[0]\n",
        "#pprint(table1)\n",
        "\n",
        "# converting the parsed data to datframe\n",
        "print(\"\\n\\nPANDAS DATAFRAME\\n\")\n",
        "df_age = pd.DataFrame(table1)\n",
        "#df_age"
      ],
      "execution_count": 12,
      "outputs": [
        {
          "output_type": "stream",
          "text": [
            "\n",
            "\n",
            "PANDAS DATAFRAME\n",
            "\n"
          ],
          "name": "stdout"
        }
      ]
    },
    {
      "cell_type": "code",
      "metadata": {
        "id": "3-GxPd_1oHtd"
      },
      "source": [
        "df_age.set_index(0).to_excel('Population by age-range.xlsx')"
      ],
      "execution_count": 13,
      "outputs": []
    },
    {
      "cell_type": "code",
      "metadata": {
        "colab": {
          "base_uri": "https://localhost:8080/",
          "height": 388
        },
        "id": "194NGRdXqudv",
        "outputId": "4f7a2ed2-c84e-4ba6-f94c-b02c2504de54"
      },
      "source": [
        "df_age = pd.read_excel('Population by age-range.xlsx',header = 1)\n",
        "df_age.rename(columns = {'Characteristic':'Years'}, inplace = True)\n",
        "df_age"
      ],
      "execution_count": 14,
      "outputs": [
        {
          "output_type": "execute_result",
          "data": {
            "text/html": [
              "<div>\n",
              "<style scoped>\n",
              "    .dataframe tbody tr th:only-of-type {\n",
              "        vertical-align: middle;\n",
              "    }\n",
              "\n",
              "    .dataframe tbody tr th {\n",
              "        vertical-align: top;\n",
              "    }\n",
              "\n",
              "    .dataframe thead th {\n",
              "        text-align: right;\n",
              "    }\n",
              "</style>\n",
              "<table border=\"1\" class=\"dataframe\">\n",
              "  <thead>\n",
              "    <tr style=\"text-align: right;\">\n",
              "      <th></th>\n",
              "      <th>Years</th>\n",
              "      <th>0-19 years</th>\n",
              "      <th>20-39 years</th>\n",
              "      <th>40-59 years</th>\n",
              "      <th>60-79 years</th>\n",
              "      <th>80 years and older</th>\n",
              "    </tr>\n",
              "  </thead>\n",
              "  <tbody>\n",
              "    <tr>\n",
              "      <th>0</th>\n",
              "      <td>2021</td>\n",
              "      <td>1.29</td>\n",
              "      <td>1.48</td>\n",
              "      <td>1.55</td>\n",
              "      <td>1.24</td>\n",
              "      <td>0.28</td>\n",
              "    </tr>\n",
              "    <tr>\n",
              "      <th>1</th>\n",
              "      <td>2020</td>\n",
              "      <td>1.30</td>\n",
              "      <td>1.47</td>\n",
              "      <td>1.56</td>\n",
              "      <td>1.23</td>\n",
              "      <td>0.27</td>\n",
              "    </tr>\n",
              "    <tr>\n",
              "      <th>2</th>\n",
              "      <td>2019</td>\n",
              "      <td>1.30</td>\n",
              "      <td>1.47</td>\n",
              "      <td>1.56</td>\n",
              "      <td>1.21</td>\n",
              "      <td>0.26</td>\n",
              "    </tr>\n",
              "    <tr>\n",
              "      <th>3</th>\n",
              "      <td>2018</td>\n",
              "      <td>1.31</td>\n",
              "      <td>1.46</td>\n",
              "      <td>1.56</td>\n",
              "      <td>1.20</td>\n",
              "      <td>0.26</td>\n",
              "    </tr>\n",
              "    <tr>\n",
              "      <th>4</th>\n",
              "      <td>2017</td>\n",
              "      <td>1.31</td>\n",
              "      <td>1.44</td>\n",
              "      <td>1.56</td>\n",
              "      <td>1.19</td>\n",
              "      <td>0.25</td>\n",
              "    </tr>\n",
              "    <tr>\n",
              "      <th>5</th>\n",
              "      <td>2016</td>\n",
              "      <td>1.31</td>\n",
              "      <td>1.42</td>\n",
              "      <td>1.56</td>\n",
              "      <td>1.17</td>\n",
              "      <td>0.24</td>\n",
              "    </tr>\n",
              "    <tr>\n",
              "      <th>6</th>\n",
              "      <td>2015</td>\n",
              "      <td>1.32</td>\n",
              "      <td>1.40</td>\n",
              "      <td>1.55</td>\n",
              "      <td>1.15</td>\n",
              "      <td>0.24</td>\n",
              "    </tr>\n",
              "    <tr>\n",
              "      <th>7</th>\n",
              "      <td>2014</td>\n",
              "      <td>1.33</td>\n",
              "      <td>1.39</td>\n",
              "      <td>1.55</td>\n",
              "      <td>1.13</td>\n",
              "      <td>0.23</td>\n",
              "    </tr>\n",
              "    <tr>\n",
              "      <th>8</th>\n",
              "      <td>2013</td>\n",
              "      <td>1.34</td>\n",
              "      <td>1.38</td>\n",
              "      <td>1.54</td>\n",
              "      <td>1.10</td>\n",
              "      <td>0.23</td>\n",
              "    </tr>\n",
              "    <tr>\n",
              "      <th>9</th>\n",
              "      <td>2012</td>\n",
              "      <td>1.34</td>\n",
              "      <td>1.38</td>\n",
              "      <td>1.54</td>\n",
              "      <td>1.09</td>\n",
              "      <td>0.23</td>\n",
              "    </tr>\n",
              "    <tr>\n",
              "      <th>10</th>\n",
              "      <td>2011</td>\n",
              "      <td>1.35</td>\n",
              "      <td>1.38</td>\n",
              "      <td>1.53</td>\n",
              "      <td>1.07</td>\n",
              "      <td>0.23</td>\n",
              "    </tr>\n",
              "  </tbody>\n",
              "</table>\n",
              "</div>"
            ],
            "text/plain": [
              "    Years  0-19 years  ...  60-79 years  80 years and older\n",
              "0    2021        1.29  ...         1.24                0.28\n",
              "1    2020        1.30  ...         1.23                0.27\n",
              "2    2019        1.30  ...         1.21                0.26\n",
              "3    2018        1.31  ...         1.20                0.26\n",
              "4    2017        1.31  ...         1.19                0.25\n",
              "5    2016        1.31  ...         1.17                0.24\n",
              "6    2015        1.32  ...         1.15                0.24\n",
              "7    2014        1.33  ...         1.13                0.23\n",
              "8    2013        1.34  ...         1.10                0.23\n",
              "9    2012        1.34  ...         1.09                0.23\n",
              "10   2011        1.35  ...         1.07                0.23\n",
              "\n",
              "[11 rows x 6 columns]"
            ]
          },
          "metadata": {
            "tags": []
          },
          "execution_count": 14
        }
      ]
    },
    {
      "cell_type": "code",
      "metadata": {
        "colab": {
          "base_uri": "https://localhost:8080/",
          "height": 388
        },
        "id": "XTs_fkOmq3HV",
        "outputId": "7aed1f00-6c6e-4b0e-b689-b4a4c8933a15"
      },
      "source": [
        "new_df = df.merge(df_age, on = 'Years', how = 'inner')\n",
        "new_df\n"
      ],
      "execution_count": 15,
      "outputs": [
        {
          "output_type": "execute_result",
          "data": {
            "text/html": [
              "<div>\n",
              "<style scoped>\n",
              "    .dataframe tbody tr th:only-of-type {\n",
              "        vertical-align: middle;\n",
              "    }\n",
              "\n",
              "    .dataframe tbody tr th {\n",
              "        vertical-align: top;\n",
              "    }\n",
              "\n",
              "    .dataframe thead th {\n",
              "        text-align: right;\n",
              "    }\n",
              "</style>\n",
              "<table border=\"1\" class=\"dataframe\">\n",
              "  <thead>\n",
              "    <tr style=\"text-align: right;\">\n",
              "      <th></th>\n",
              "      <th>Years</th>\n",
              "      <th>Male</th>\n",
              "      <th>Female</th>\n",
              "      <th>Total_Population</th>\n",
              "      <th>0-19 years</th>\n",
              "      <th>20-39 years</th>\n",
              "      <th>40-59 years</th>\n",
              "      <th>60-79 years</th>\n",
              "      <th>80 years and older</th>\n",
              "    </tr>\n",
              "  </thead>\n",
              "  <tbody>\n",
              "    <tr>\n",
              "      <th>0</th>\n",
              "      <td>2021</td>\n",
              "      <td>2.91</td>\n",
              "      <td>2.94</td>\n",
              "      <td>5.85</td>\n",
              "      <td>1.29</td>\n",
              "      <td>1.48</td>\n",
              "      <td>1.55</td>\n",
              "      <td>1.24</td>\n",
              "      <td>0.28</td>\n",
              "    </tr>\n",
              "    <tr>\n",
              "      <th>1</th>\n",
              "      <td>2020</td>\n",
              "      <td>2.90</td>\n",
              "      <td>2.93</td>\n",
              "      <td>5.83</td>\n",
              "      <td>1.30</td>\n",
              "      <td>1.47</td>\n",
              "      <td>1.56</td>\n",
              "      <td>1.23</td>\n",
              "      <td>0.27</td>\n",
              "    </tr>\n",
              "    <tr>\n",
              "      <th>2</th>\n",
              "      <td>2019</td>\n",
              "      <td>2.89</td>\n",
              "      <td>2.92</td>\n",
              "      <td>5.81</td>\n",
              "      <td>1.30</td>\n",
              "      <td>1.47</td>\n",
              "      <td>1.56</td>\n",
              "      <td>1.21</td>\n",
              "      <td>0.26</td>\n",
              "    </tr>\n",
              "    <tr>\n",
              "      <th>3</th>\n",
              "      <td>2018</td>\n",
              "      <td>2.88</td>\n",
              "      <td>2.91</td>\n",
              "      <td>5.79</td>\n",
              "      <td>1.31</td>\n",
              "      <td>1.46</td>\n",
              "      <td>1.56</td>\n",
              "      <td>1.20</td>\n",
              "      <td>0.26</td>\n",
              "    </tr>\n",
              "    <tr>\n",
              "      <th>4</th>\n",
              "      <td>2017</td>\n",
              "      <td>2.86</td>\n",
              "      <td>2.89</td>\n",
              "      <td>5.75</td>\n",
              "      <td>1.31</td>\n",
              "      <td>1.44</td>\n",
              "      <td>1.56</td>\n",
              "      <td>1.19</td>\n",
              "      <td>0.25</td>\n",
              "    </tr>\n",
              "    <tr>\n",
              "      <th>5</th>\n",
              "      <td>2016</td>\n",
              "      <td>2.84</td>\n",
              "      <td>2.87</td>\n",
              "      <td>5.71</td>\n",
              "      <td>1.31</td>\n",
              "      <td>1.42</td>\n",
              "      <td>1.56</td>\n",
              "      <td>1.17</td>\n",
              "      <td>0.24</td>\n",
              "    </tr>\n",
              "    <tr>\n",
              "      <th>6</th>\n",
              "      <td>2015</td>\n",
              "      <td>2.81</td>\n",
              "      <td>2.85</td>\n",
              "      <td>5.66</td>\n",
              "      <td>1.32</td>\n",
              "      <td>1.40</td>\n",
              "      <td>1.55</td>\n",
              "      <td>1.15</td>\n",
              "      <td>0.24</td>\n",
              "    </tr>\n",
              "    <tr>\n",
              "      <th>7</th>\n",
              "      <td>2014</td>\n",
              "      <td>2.79</td>\n",
              "      <td>2.83</td>\n",
              "      <td>5.62</td>\n",
              "      <td>1.33</td>\n",
              "      <td>1.39</td>\n",
              "      <td>1.55</td>\n",
              "      <td>1.13</td>\n",
              "      <td>0.23</td>\n",
              "    </tr>\n",
              "    <tr>\n",
              "      <th>8</th>\n",
              "      <td>2013</td>\n",
              "      <td>2.78</td>\n",
              "      <td>2.82</td>\n",
              "      <td>5.60</td>\n",
              "      <td>1.34</td>\n",
              "      <td>1.38</td>\n",
              "      <td>1.54</td>\n",
              "      <td>1.10</td>\n",
              "      <td>0.23</td>\n",
              "    </tr>\n",
              "    <tr>\n",
              "      <th>9</th>\n",
              "      <td>2012</td>\n",
              "      <td>2.77</td>\n",
              "      <td>2.81</td>\n",
              "      <td>5.58</td>\n",
              "      <td>1.34</td>\n",
              "      <td>1.38</td>\n",
              "      <td>1.54</td>\n",
              "      <td>1.09</td>\n",
              "      <td>0.23</td>\n",
              "    </tr>\n",
              "    <tr>\n",
              "      <th>10</th>\n",
              "      <td>2011</td>\n",
              "      <td>2.76</td>\n",
              "      <td>2.80</td>\n",
              "      <td>5.56</td>\n",
              "      <td>1.35</td>\n",
              "      <td>1.38</td>\n",
              "      <td>1.53</td>\n",
              "      <td>1.07</td>\n",
              "      <td>0.23</td>\n",
              "    </tr>\n",
              "  </tbody>\n",
              "</table>\n",
              "</div>"
            ],
            "text/plain": [
              "    Years  Male  Female  ...  40-59 years  60-79 years  80 years and older\n",
              "0    2021  2.91    2.94  ...         1.55         1.24                0.28\n",
              "1    2020  2.90    2.93  ...         1.56         1.23                0.27\n",
              "2    2019  2.89    2.92  ...         1.56         1.21                0.26\n",
              "3    2018  2.88    2.91  ...         1.56         1.20                0.26\n",
              "4    2017  2.86    2.89  ...         1.56         1.19                0.25\n",
              "5    2016  2.84    2.87  ...         1.56         1.17                0.24\n",
              "6    2015  2.81    2.85  ...         1.55         1.15                0.24\n",
              "7    2014  2.79    2.83  ...         1.55         1.13                0.23\n",
              "8    2013  2.78    2.82  ...         1.54         1.10                0.23\n",
              "9    2012  2.77    2.81  ...         1.54         1.09                0.23\n",
              "10   2011  2.76    2.80  ...         1.53         1.07                0.23\n",
              "\n",
              "[11 rows x 9 columns]"
            ]
          },
          "metadata": {
            "tags": []
          },
          "execution_count": 15
        }
      ]
    },
    {
      "cell_type": "code",
      "metadata": {
        "id": "A6AGjsvXD_W8"
      },
      "source": [
        "import matplotlib.pyplot as plt\n",
        "%matplotlib inline\n",
        "import seaborn as sns"
      ],
      "execution_count": 16,
      "outputs": []
    },
    {
      "cell_type": "code",
      "metadata": {
        "colab": {
          "base_uri": "https://localhost:8080/",
          "height": 313
        },
        "id": "yF22lAqOEhyQ",
        "outputId": "3b96e516-20cd-4224-c427-e8d2b0772b80"
      },
      "source": [
        "sns.boxplot(x='Total_Population', data = new_df)\n",
        "plt.title('Total popolation in denmark from 2011-2021')"
      ],
      "execution_count": 17,
      "outputs": [
        {
          "output_type": "execute_result",
          "data": {
            "text/plain": [
              "Text(0.5, 1.0, 'Total popolation in denmark from 2011-2021')"
            ]
          },
          "metadata": {
            "tags": []
          },
          "execution_count": 17
        },
        {
          "output_type": "display_data",
          "data": {
            "image/png": "[encoded data removed]",
            "text/plain": [
              "<Figure size 432x288 with 1 Axes>"
            ]
          },
          "metadata": {
            "tags": [],
            "needs_background": "light"
          }
        }
      ]
    },
    {
      "cell_type": "code",
      "metadata": {
        "colab": {
          "base_uri": "https://localhost:8080/",
          "height": 382
        },
        "id": "7ULgM5R4Fj3q",
        "outputId": "2ac02c20-df20-4e2f-e173-e3d022aaff91"
      },
      "source": [
        "new_df.plot(x ='Years', y=['Male','Female','Total_Population'], kind = 'bar', figsize=(20, 5))\n",
        "plt.ylabel('No of people(millions)')\n",
        "plt.xlabel('Years')\n",
        "plt.title('Gender-wise and Total Population in Denmark')"
      ],
      "execution_count": 18,
      "outputs": [
        {
          "output_type": "execute_result",
          "data": {
            "text/plain": [
              "Text(0.5, 1.0, 'Gender-wise and Total Population in Denmark')"
            ]
          },
          "metadata": {
            "tags": []
          },
          "execution_count": 18
        },
        {
          "output_type": "display_data",
          "data": {
            "image/png": "[encoded data removed]",
            "text/plain": [
              "<Figure size 1440x360 with 1 Axes>"
            ]
          },
          "metadata": {
            "tags": [],
            "needs_background": "light"
          }
        }
      ]
    },
    {
      "cell_type": "markdown",
      "metadata": {
        "id": "drroYUEIWDyQ"
      },
      "source": [
        "This plot shows us the total population and also the number of male and female population in Denmark. Females number are always slightly higher than males but if we observe closely that difference is slowly coming down and almost half of the population is shared by both the genders. \n",
        "Denmark believes in equality and brings the opportunity for both the genders equally in the socitey.\n"
      ]
    },
    {
      "cell_type": "code",
      "metadata": {
        "colab": {
          "base_uri": "https://localhost:8080/",
          "height": 350
        },
        "id": "3l83BQ2zEh1I",
        "outputId": "701b87de-51b6-4248-8334-f9812baf9076"
      },
      "source": [
        "new_df.plot(x ='Years', y=['0-19 years','20-39 years','40-59 years','60-79 years','80 years and older'], kind = 'line', figsize=(15, 5))\n",
        "plt.ylabel('No of people(millions)')\n",
        "plt.xlabel('Years')\n",
        "plt.title('Population in Denmark on the base of different age-groups')\n",
        "plt.show()"
      ],
      "execution_count": 19,
      "outputs": [
        {
          "output_type": "display_data",
          "data": {
            "image/png": "[encoded data removed]",
            "text/plain": [
              "<Figure size 1080x360 with 1 Axes>"
            ]
          },
          "metadata": {
            "tags": [],
            "needs_background": "light"
          }
        }
      ]
    },
    {
      "cell_type": "markdown",
      "metadata": {
        "id": "WniFD6rWUYer"
      },
      "source": [
        "In this plot we can see that the most number of people in denmark are of age 40-59, and there is a gap of young generation 0-19. That means in future there will be shortage of working people in the society, who can contribute in welfare income. So govenment should take actions accordingly, which can bring balance in the socitey for futur, like pension scheme, or child benfit payment and more. They should also encourage or bbring such schemes in the society so that young generation stay in Denmark and can help economy to grow. \n",
        "\n",
        "This plot also shows life expectancy also. There is very less generation of older people, that means either people are dying in young age or they are moving in other countries. "
      ]
    },
    {
      "cell_type": "code",
      "metadata": {
        "id": "ztZZ-pEUsg9i"
      },
      "source": [
        "df_crime = pd.read_csv(\"/content/drive/My Drive/PYTHON   SQL   EXCEL/Denmark_Crime_Regionwise - Denmark_Crime_Regionwise.csv\")\n",
        "#df_crime"
      ],
      "execution_count": 20,
      "outputs": []
    },
    {
      "cell_type": "code",
      "metadata": {
        "id": "4cMNAbPj4w0F"
      },
      "source": [
        "df_crime.drop(['2007Q1','2007Q2','2007Q3','2007Q4','2008Q1','2008Q2','2008Q3','2008Q4','2009Q1','2009Q2','2009Q3','2009Q4','2010Q1','2010Q2','2010Q3','2010Q4'],axis = 1,inplace = True)\n",
        "#df_crime.head()"
      ],
      "execution_count": 21,
      "outputs": []
    },
    {
      "cell_type": "code",
      "metadata": {
        "id": "okHuR9XU4aO8"
      },
      "source": [
        "import numpy as np\n",
        "\n",
        "df_crime['REGION'].replace(r'Unknown municipality', np.nan, inplace = True)\n",
        "df_crime.replace(0, np.nan, inplace = True)\n",
        "df_crime = df_crime.dropna()"
      ],
      "execution_count": 22,
      "outputs": []
    },
    {
      "cell_type": "code",
      "metadata": {
        "id": "A584J8entpRX"
      },
      "source": [
        "df_crime['2011'] = df_crime['2011Q1'] + df_crime['2011Q2'] + df_crime['2011Q3'] + df_crime['2011Q4']"
      ],
      "execution_count": 23,
      "outputs": []
    },
    {
      "cell_type": "code",
      "metadata": {
        "id": "pioG8rS58HVW"
      },
      "source": [
        "df_crime['2012'] = df_crime['2012Q1'] + df_crime['2012Q2'] + df_crime['2012Q3'] + df_crime['2012Q4']\n",
        "#df_crime['2012']"
      ],
      "execution_count": 24,
      "outputs": []
    },
    {
      "cell_type": "code",
      "metadata": {
        "id": "9dsCbSow8HXv"
      },
      "source": [
        "df_crime['2013'] = df_crime['2013Q1'] + df_crime['2013Q2'] + df_crime['2013Q3'] + df_crime['2013Q4']\n",
        "#df_crime['2013']"
      ],
      "execution_count": 25,
      "outputs": []
    },
    {
      "cell_type": "code",
      "metadata": {
        "id": "1adQ8y6C8Hbm"
      },
      "source": [
        "df_crime['2014'] = df_crime['2014Q1'] + df_crime['2014Q2'] + df_crime['2014Q3'] + df_crime['2014Q4']"
      ],
      "execution_count": 26,
      "outputs": []
    },
    {
      "cell_type": "code",
      "metadata": {
        "id": "cT8BclhV_t_F"
      },
      "source": [
        "df_crime['2015'] = df_crime['2015Q1'] + df_crime['2015Q2'] + df_crime['2015Q3'] + df_crime['2015Q4']"
      ],
      "execution_count": 27,
      "outputs": []
    },
    {
      "cell_type": "code",
      "metadata": {
        "id": "y6NGcaQa_uG7"
      },
      "source": [
        "df_crime['2016'] = df_crime['2016Q1'] + df_crime['2016Q2'] + df_crime['2016Q3'] + df_crime['2016Q4']"
      ],
      "execution_count": 28,
      "outputs": []
    },
    {
      "cell_type": "code",
      "metadata": {
        "id": "taYxtPphAZsw"
      },
      "source": [
        "df_crime['2017'] = df_crime['2017Q1'] + df_crime['2017Q2'] + df_crime['2017Q3'] + df_crime['2017Q4']"
      ],
      "execution_count": 29,
      "outputs": []
    },
    {
      "cell_type": "code",
      "metadata": {
        "id": "aFlSROVAAZvw"
      },
      "source": [
        "df_crime['2018'] = df_crime['2018Q1'] + df_crime['2018Q2'] + df_crime['2018Q3'] + df_crime['2018Q4']"
      ],
      "execution_count": 30,
      "outputs": []
    },
    {
      "cell_type": "code",
      "metadata": {
        "id": "RLEO1XQcAaBq"
      },
      "source": [
        "df_crime['2019'] = df_crime['2019Q1'] + df_crime['2019Q2'] + df_crime['2019Q3']"
      ],
      "execution_count": 31,
      "outputs": []
    },
    {
      "cell_type": "code",
      "metadata": {
        "colab": {
          "base_uri": "https://localhost:8080/",
          "height": 417
        },
        "id": "43tI52va14Li",
        "outputId": "087e6f48-3884-4a29-a9be-9fb5257208fe"
      },
      "source": [
        "df_crime_2011_2019 = df_crime[['REGION','TYPE OF OFFENCE','2011','2012','2013','2014','2015','2016','2017','2018','2019']]\n",
        "df_crime_2011_2019"
      ],
      "execution_count": 32,
      "outputs": [
        {
          "output_type": "execute_result",
          "data": {
            "text/html": [
              "<div>\n",
              "<style scoped>\n",
              "    .dataframe tbody tr th:only-of-type {\n",
              "        vertical-align: middle;\n",
              "    }\n",
              "\n",
              "    .dataframe tbody tr th {\n",
              "        vertical-align: top;\n",
              "    }\n",
              "\n",
              "    .dataframe thead th {\n",
              "        text-align: right;\n",
              "    }\n",
              "</style>\n",
              "<table border=\"1\" class=\"dataframe\">\n",
              "  <thead>\n",
              "    <tr style=\"text-align: right;\">\n",
              "      <th></th>\n",
              "      <th>REGION</th>\n",
              "      <th>TYPE OF OFFENCE</th>\n",
              "      <th>2011</th>\n",
              "      <th>2012</th>\n",
              "      <th>2013</th>\n",
              "      <th>2014</th>\n",
              "      <th>2015</th>\n",
              "      <th>2016</th>\n",
              "      <th>2017</th>\n",
              "      <th>2018</th>\n",
              "      <th>2019</th>\n",
              "    </tr>\n",
              "  </thead>\n",
              "  <tbody>\n",
              "    <tr>\n",
              "      <th>0</th>\n",
              "      <td>Region Hovedstaden</td>\n",
              "      <td>Nature of the offence, total</td>\n",
              "      <td>202970.0</td>\n",
              "      <td>204274.0</td>\n",
              "      <td>208816.0</td>\n",
              "      <td>202023.0</td>\n",
              "      <td>193120.0</td>\n",
              "      <td>202452.0</td>\n",
              "      <td>189518.0</td>\n",
              "      <td>181544.0</td>\n",
              "      <td>133848.0</td>\n",
              "    </tr>\n",
              "    <tr>\n",
              "      <th>1</th>\n",
              "      <td>Region Hovedstaden</td>\n",
              "      <td>Penal Code, total</td>\n",
              "      <td>175579.0</td>\n",
              "      <td>175146.0</td>\n",
              "      <td>172440.0</td>\n",
              "      <td>163923.0</td>\n",
              "      <td>158254.0</td>\n",
              "      <td>165432.0</td>\n",
              "      <td>153951.0</td>\n",
              "      <td>140684.0</td>\n",
              "      <td>99781.0</td>\n",
              "    </tr>\n",
              "    <tr>\n",
              "      <th>3</th>\n",
              "      <td>Region Hovedstaden</td>\n",
              "      <td>Sexual offenses, total</td>\n",
              "      <td>610.0</td>\n",
              "      <td>667.0</td>\n",
              "      <td>653.0</td>\n",
              "      <td>574.0</td>\n",
              "      <td>705.0</td>\n",
              "      <td>1522.0</td>\n",
              "      <td>1526.0</td>\n",
              "      <td>2221.0</td>\n",
              "      <td>1063.0</td>\n",
              "    </tr>\n",
              "    <tr>\n",
              "      <th>5</th>\n",
              "      <td>Region Hovedstaden</td>\n",
              "      <td>Rape, etc.</td>\n",
              "      <td>86.0</td>\n",
              "      <td>89.0</td>\n",
              "      <td>103.0</td>\n",
              "      <td>113.0</td>\n",
              "      <td>127.0</td>\n",
              "      <td>234.0</td>\n",
              "      <td>284.0</td>\n",
              "      <td>299.0</td>\n",
              "      <td>215.0</td>\n",
              "    </tr>\n",
              "    <tr>\n",
              "      <th>13</th>\n",
              "      <td>Region Hovedstaden</td>\n",
              "      <td>Offence against public decency by groping</td>\n",
              "      <td>128.0</td>\n",
              "      <td>124.0</td>\n",
              "      <td>124.0</td>\n",
              "      <td>122.0</td>\n",
              "      <td>186.0</td>\n",
              "      <td>214.0</td>\n",
              "      <td>266.0</td>\n",
              "      <td>270.0</td>\n",
              "      <td>201.0</td>\n",
              "    </tr>\n",
              "    <tr>\n",
              "      <th>...</th>\n",
              "      <td>...</td>\n",
              "      <td>...</td>\n",
              "      <td>...</td>\n",
              "      <td>...</td>\n",
              "      <td>...</td>\n",
              "      <td>...</td>\n",
              "      <td>...</td>\n",
              "      <td>...</td>\n",
              "      <td>...</td>\n",
              "      <td>...</td>\n",
              "      <td>...</td>\n",
              "    </tr>\n",
              "    <tr>\n",
              "      <th>9351</th>\n",
              "      <td>Aalborg</td>\n",
              "      <td>The environmental protection act</td>\n",
              "      <td>57.0</td>\n",
              "      <td>87.0</td>\n",
              "      <td>71.0</td>\n",
              "      <td>186.0</td>\n",
              "      <td>103.0</td>\n",
              "      <td>97.0</td>\n",
              "      <td>66.0</td>\n",
              "      <td>98.0</td>\n",
              "      <td>61.0</td>\n",
              "    </tr>\n",
              "    <tr>\n",
              "      <th>9352</th>\n",
              "      <td>Aalborg</td>\n",
              "      <td>Legislation on animals, hunting, etc.</td>\n",
              "      <td>251.0</td>\n",
              "      <td>214.0</td>\n",
              "      <td>185.0</td>\n",
              "      <td>185.0</td>\n",
              "      <td>128.0</td>\n",
              "      <td>106.0</td>\n",
              "      <td>104.0</td>\n",
              "      <td>148.0</td>\n",
              "      <td>109.0</td>\n",
              "    </tr>\n",
              "    <tr>\n",
              "      <th>9353</th>\n",
              "      <td>Aalborg</td>\n",
              "      <td>Legislation on employment, transport, etc.</td>\n",
              "      <td>146.0</td>\n",
              "      <td>129.0</td>\n",
              "      <td>231.0</td>\n",
              "      <td>205.0</td>\n",
              "      <td>203.0</td>\n",
              "      <td>219.0</td>\n",
              "      <td>272.0</td>\n",
              "      <td>239.0</td>\n",
              "      <td>232.0</td>\n",
              "    </tr>\n",
              "    <tr>\n",
              "      <th>9355</th>\n",
              "      <td>Aalborg</td>\n",
              "      <td>Legislation on the national defence</td>\n",
              "      <td>119.0</td>\n",
              "      <td>287.0</td>\n",
              "      <td>503.0</td>\n",
              "      <td>544.0</td>\n",
              "      <td>468.0</td>\n",
              "      <td>1039.0</td>\n",
              "      <td>1114.0</td>\n",
              "      <td>720.0</td>\n",
              "      <td>339.0</td>\n",
              "    </tr>\n",
              "    <tr>\n",
              "      <th>9357</th>\n",
              "      <td>Aalborg</td>\n",
              "      <td>Legislation on gambling, licencing, trade</td>\n",
              "      <td>326.0</td>\n",
              "      <td>276.0</td>\n",
              "      <td>290.0</td>\n",
              "      <td>239.0</td>\n",
              "      <td>172.0</td>\n",
              "      <td>238.0</td>\n",
              "      <td>309.0</td>\n",
              "      <td>388.0</td>\n",
              "      <td>207.0</td>\n",
              "    </tr>\n",
              "  </tbody>\n",
              "</table>\n",
              "<p>2796 rows × 11 columns</p>\n",
              "</div>"
            ],
            "text/plain": [
              "                  REGION  ...      2019\n",
              "0     Region Hovedstaden  ...  133848.0\n",
              "1     Region Hovedstaden  ...   99781.0\n",
              "3     Region Hovedstaden  ...    1063.0\n",
              "5     Region Hovedstaden  ...     215.0\n",
              "13    Region Hovedstaden  ...     201.0\n",
              "...                  ...  ...       ...\n",
              "9351             Aalborg  ...      61.0\n",
              "9352             Aalborg  ...     109.0\n",
              "9353             Aalborg  ...     232.0\n",
              "9355             Aalborg  ...     339.0\n",
              "9357             Aalborg  ...     207.0\n",
              "\n",
              "[2796 rows x 11 columns]"
            ]
          },
          "metadata": {
            "tags": []
          },
          "execution_count": 32
        }
      ]
    },
    {
      "cell_type": "code",
      "metadata": {
        "colab": {
          "base_uri": "https://localhost:8080/",
          "height": 417
        },
        "id": "teFdnSeuSnVn",
        "outputId": "6532148a-2d6a-4851-caa6-889254d29090"
      },
      "source": [
        "df_crime_plot = df_crime_2011_2019.groupby(['REGION'])['TYPE OF OFFENCE'].count().reset_index()\n",
        "df_crime_plot"
      ],
      "execution_count": 33,
      "outputs": [
        {
          "output_type": "execute_result",
          "data": {
            "text/html": [
              "<div>\n",
              "<style scoped>\n",
              "    .dataframe tbody tr th:only-of-type {\n",
              "        vertical-align: middle;\n",
              "    }\n",
              "\n",
              "    .dataframe tbody tr th {\n",
              "        vertical-align: top;\n",
              "    }\n",
              "\n",
              "    .dataframe thead th {\n",
              "        text-align: right;\n",
              "    }\n",
              "</style>\n",
              "<table border=\"1\" class=\"dataframe\">\n",
              "  <thead>\n",
              "    <tr style=\"text-align: right;\">\n",
              "      <th></th>\n",
              "      <th>REGION</th>\n",
              "      <th>TYPE OF OFFENCE</th>\n",
              "    </tr>\n",
              "  </thead>\n",
              "  <tbody>\n",
              "    <tr>\n",
              "      <th>0</th>\n",
              "      <td>Aabenraa</td>\n",
              "      <td>33</td>\n",
              "    </tr>\n",
              "    <tr>\n",
              "      <th>1</th>\n",
              "      <td>Aalborg</td>\n",
              "      <td>44</td>\n",
              "    </tr>\n",
              "    <tr>\n",
              "      <th>2</th>\n",
              "      <td>Aarhus</td>\n",
              "      <td>49</td>\n",
              "    </tr>\n",
              "    <tr>\n",
              "      <th>3</th>\n",
              "      <td>Albertslund</td>\n",
              "      <td>26</td>\n",
              "    </tr>\n",
              "    <tr>\n",
              "      <th>4</th>\n",
              "      <td>Allerød</td>\n",
              "      <td>19</td>\n",
              "    </tr>\n",
              "    <tr>\n",
              "      <th>...</th>\n",
              "      <td>...</td>\n",
              "      <td>...</td>\n",
              "    </tr>\n",
              "    <tr>\n",
              "      <th>98</th>\n",
              "      <td>Vejle</td>\n",
              "      <td>34</td>\n",
              "    </tr>\n",
              "    <tr>\n",
              "      <th>99</th>\n",
              "      <td>Vesthimmerlands</td>\n",
              "      <td>26</td>\n",
              "    </tr>\n",
              "    <tr>\n",
              "      <th>100</th>\n",
              "      <td>Viborg</td>\n",
              "      <td>28</td>\n",
              "    </tr>\n",
              "    <tr>\n",
              "      <th>101</th>\n",
              "      <td>Vordingborg</td>\n",
              "      <td>26</td>\n",
              "    </tr>\n",
              "    <tr>\n",
              "      <th>102</th>\n",
              "      <td>Ærø</td>\n",
              "      <td>5</td>\n",
              "    </tr>\n",
              "  </tbody>\n",
              "</table>\n",
              "<p>103 rows × 2 columns</p>\n",
              "</div>"
            ],
            "text/plain": [
              "              REGION  TYPE OF OFFENCE\n",
              "0           Aabenraa               33\n",
              "1            Aalborg               44\n",
              "2             Aarhus               49\n",
              "3        Albertslund               26\n",
              "4            Allerød               19\n",
              "..               ...              ...\n",
              "98             Vejle               34\n",
              "99   Vesthimmerlands               26\n",
              "100           Viborg               28\n",
              "101      Vordingborg               26\n",
              "102              Ærø                5\n",
              "\n",
              "[103 rows x 2 columns]"
            ]
          },
          "metadata": {
            "tags": []
          },
          "execution_count": 33
        }
      ]
    },
    {
      "cell_type": "code",
      "metadata": {
        "colab": {
          "base_uri": "https://localhost:8080/",
          "height": 443
        },
        "id": "PAe3-Yg4S0Rn",
        "outputId": "cfbcff03-dfc0-4bf8-9c7b-ded7aebffe1a"
      },
      "source": [
        "df_crime_plot.plot(x ='REGION', y='TYPE OF OFFENCE', kind = 'bar',figsize=(20, 5))\n",
        "plt.ylabel('Total number of Offences')\n",
        "plt.xlabel('Regions in Denmark')\n",
        "plt.title('Total number of Offence in different Regions of Denmark')\n",
        "plt.show()"
      ],
      "execution_count": 34,
      "outputs": [
        {
          "output_type": "display_data",
          "data": {
            "image/png": "[encoded data removed]",
            "text/plain": [
              "<Figure size 1440x360 with 1 Axes>"
            ]
          },
          "metadata": {
            "tags": [],
            "needs_background": "light"
          }
        }
      ]
    },
    {
      "cell_type": "markdown",
      "metadata": {
        "id": "6buTlMz3W-xB"
      },
      "source": [
        "In this plot we can see regions in denmark with the numbers of crimes happened in these regions within the time period of 2011-2019. \n",
        "As we can see that most of the numbers are registered in 'Copenhagen','Aarhus','Aalborg' and 'Odense'. Being big city, these cities have more exposure, so there is also more crime reported. The safest area to live in Denmark is Læsø, Samsø and Ærø, where the crime reports are less. "
      ]
    },
    {
      "cell_type": "code",
      "metadata": {
        "id": "U8BQlGT44CcK",
        "colab": {
          "base_uri": "https://localhost:8080/",
          "height": 410
        },
        "outputId": "c90445d7-7329-4c60-e978-fc45182430ca"
      },
      "source": [
        "df_crime_plot1 = df_crime_2011_2019.groupby(['TYPE OF OFFENCE'])['2019','2018','2017','2016'].sum().reset_index()\n",
        "df_crime_plot1.sort_values(['2019','2018','2017','2016'], ascending=False, inplace=True)\n",
        "df_crime_plot2 = df_crime_plot1[:10]\n",
        "df_crime_plot2"
      ],
      "execution_count": 35,
      "outputs": [
        {
          "output_type": "stream",
          "text": [
            "/usr/local/lib/python3.7/dist-packages/ipykernel_launcher.py:1: FutureWarning: Indexing with multiple keys (implicitly converted to a tuple of keys) will be deprecated, use a list instead.\n",
            "  \"\"\"Entry point for launching an IPython kernel.\n"
          ],
          "name": "stderr"
        },
        {
          "output_type": "execute_result",
          "data": {
            "text/html": [
              "<div>\n",
              "<style scoped>\n",
              "    .dataframe tbody tr th:only-of-type {\n",
              "        vertical-align: middle;\n",
              "    }\n",
              "\n",
              "    .dataframe tbody tr th {\n",
              "        vertical-align: top;\n",
              "    }\n",
              "\n",
              "    .dataframe thead th {\n",
              "        text-align: right;\n",
              "    }\n",
              "</style>\n",
              "<table border=\"1\" class=\"dataframe\">\n",
              "  <thead>\n",
              "    <tr style=\"text-align: right;\">\n",
              "      <th></th>\n",
              "      <th>TYPE OF OFFENCE</th>\n",
              "      <th>2019</th>\n",
              "      <th>2018</th>\n",
              "      <th>2017</th>\n",
              "      <th>2016</th>\n",
              "    </tr>\n",
              "  </thead>\n",
              "  <tbody>\n",
              "    <tr>\n",
              "      <th>31</th>\n",
              "      <td>Nature of the offence, total</td>\n",
              "      <td>649544.0</td>\n",
              "      <td>895099.0</td>\n",
              "      <td>911937.0</td>\n",
              "      <td>931438.0</td>\n",
              "    </tr>\n",
              "    <tr>\n",
              "      <th>44</th>\n",
              "      <td>Penal Code, total</td>\n",
              "      <td>456584.0</td>\n",
              "      <td>660134.0</td>\n",
              "      <td>712475.0</td>\n",
              "      <td>741946.0</td>\n",
              "    </tr>\n",
              "    <tr>\n",
              "      <th>37</th>\n",
              "      <td>Offences against property, total</td>\n",
              "      <td>395830.0</td>\n",
              "      <td>578929.0</td>\n",
              "      <td>639028.0</td>\n",
              "      <td>677855.0</td>\n",
              "    </tr>\n",
              "    <tr>\n",
              "      <th>53</th>\n",
              "      <td>Special acts, total</td>\n",
              "      <td>192898.0</td>\n",
              "      <td>234680.0</td>\n",
              "      <td>199273.0</td>\n",
              "      <td>189435.0</td>\n",
              "    </tr>\n",
              "    <tr>\n",
              "      <th>41</th>\n",
              "      <td>Other kinds of theft</td>\n",
              "      <td>92588.0</td>\n",
              "      <td>145553.0</td>\n",
              "      <td>195713.0</td>\n",
              "      <td>213332.0</td>\n",
              "    </tr>\n",
              "    <tr>\n",
              "      <th>43</th>\n",
              "      <td>Other special acts in criminal law</td>\n",
              "      <td>76242.0</td>\n",
              "      <td>92727.0</td>\n",
              "      <td>79594.0</td>\n",
              "      <td>76563.0</td>\n",
              "    </tr>\n",
              "    <tr>\n",
              "      <th>60</th>\n",
              "      <td>Theft of/taking bicycle without the owners con...</td>\n",
              "      <td>69508.0</td>\n",
              "      <td>93068.0</td>\n",
              "      <td>96133.0</td>\n",
              "      <td>104869.0</td>\n",
              "    </tr>\n",
              "    <tr>\n",
              "      <th>14</th>\n",
              "      <td>Euphoriants Act</td>\n",
              "      <td>43922.0</td>\n",
              "      <td>53651.0</td>\n",
              "      <td>47376.0</td>\n",
              "      <td>41797.0</td>\n",
              "    </tr>\n",
              "    <tr>\n",
              "      <th>12</th>\n",
              "      <td>Crimes of violence, total</td>\n",
              "      <td>39239.0</td>\n",
              "      <td>51930.0</td>\n",
              "      <td>50550.0</td>\n",
              "      <td>41939.0</td>\n",
              "    </tr>\n",
              "    <tr>\n",
              "      <th>48</th>\n",
              "      <td>Residential burglaries</td>\n",
              "      <td>34149.0</td>\n",
              "      <td>57413.0</td>\n",
              "      <td>58203.0</td>\n",
              "      <td>63451.0</td>\n",
              "    </tr>\n",
              "  </tbody>\n",
              "</table>\n",
              "</div>"
            ],
            "text/plain": [
              "                                      TYPE OF OFFENCE  ...      2016\n",
              "31                       Nature of the offence, total  ...  931438.0\n",
              "44                                  Penal Code, total  ...  741946.0\n",
              "37                   Offences against property, total  ...  677855.0\n",
              "53                                Special acts, total  ...  189435.0\n",
              "41                               Other kinds of theft  ...  213332.0\n",
              "43                 Other special acts in criminal law  ...   76563.0\n",
              "60  Theft of/taking bicycle without the owners con...  ...  104869.0\n",
              "14                                    Euphoriants Act  ...   41797.0\n",
              "12                          Crimes of violence, total  ...   41939.0\n",
              "48                             Residential burglaries  ...   63451.0\n",
              "\n",
              "[10 rows x 5 columns]"
            ]
          },
          "metadata": {
            "tags": []
          },
          "execution_count": 35
        }
      ]
    },
    {
      "cell_type": "code",
      "metadata": {
        "id": "QGaEtZjQ4Jlz",
        "colab": {
          "base_uri": "https://localhost:8080/",
          "height": 350
        },
        "outputId": "afb99ad6-f06c-4a9f-aec7-d6791eff1c69"
      },
      "source": [
        "df_crime_plot2.plot(x = 'TYPE OF OFFENCE', y= ['2019','2018','2017','2016'], kind = 'area',figsize=(20, 5))\n",
        "plt.ylabel('Total number of Offence')\n",
        "plt.xlabel('TYPE OF OFFENCE')\n",
        "plt.title('Total number of offences year 2019-2016 in Denmark')\n",
        "plt.show()"
      ],
      "execution_count": 36,
      "outputs": [
        {
          "output_type": "display_data",
          "data": {
            "image/png": "[encoded data removed]",
            "text/plain": [
              "<Figure size 1440x360 with 1 Axes>"
            ]
          },
          "metadata": {
            "tags": [],
            "needs_background": "light"
          }
        }
      ]
    },
    {
      "cell_type": "markdown",
      "metadata": {
        "id": "W2HmEwaxj-4t"
      },
      "source": [
        "In this plot we can see the crime rate has come down from 2016 to 2019, which is a good sign. But there is till some offence is on high number."
      ]
    },
    {
      "cell_type": "code",
      "metadata": {
        "colab": {
          "base_uri": "https://localhost:8080/"
        },
        "id": "lOPvrRkjaPhZ",
        "outputId": "1720a91e-81dc-4332-fff3-40880fdbf740"
      },
      "source": [
        "df_crime_plot4 = df_crime_2011_2019.groupby(['REGION'])['2019','2018','2017','2016'].sum().reset_index()\n",
        "df_crime_plot4.sort_values(['2019','2018','2017','2016'], ascending=False, inplace=True)  "
      ],
      "execution_count": 37,
      "outputs": [
        {
          "output_type": "stream",
          "text": [
            "/usr/local/lib/python3.7/dist-packages/ipykernel_launcher.py:1: FutureWarning: Indexing with multiple keys (implicitly converted to a tuple of keys) will be deprecated, use a list instead.\n",
            "  \"\"\"Entry point for launching an IPython kernel.\n"
          ],
          "name": "stderr"
        }
      ]
    },
    {
      "cell_type": "code",
      "metadata": {
        "colab": {
          "base_uri": "https://localhost:8080/",
          "height": 350
        },
        "id": "3yWOU9cPPeOG",
        "outputId": "141c99ff-11f7-4a6a-9df6-7267db69ab16"
      },
      "source": [
        "df_crime_plot4.plot(x='REGION',y=['2019','2018','2017','2016'], figsize=(20, 5), kind='area')\n",
        "plt.ylabel('Total number of Offence')\n",
        "plt.xlabel('Region')\n",
        "plt.title('10 Highest number of offences in regions of Denmark through year 2019-2016')\n",
        "plt.show()"
      ],
      "execution_count": 38,
      "outputs": [
        {
          "output_type": "display_data",
          "data": {
            "image/png": "[encoded data removed]",
            "text/plain": [
              "<Figure size 1440x360 with 1 Axes>"
            ]
          },
          "metadata": {
            "tags": [],
            "needs_background": "light"
          }
        }
      ]
    },
    {
      "cell_type": "markdown",
      "metadata": {
        "id": "oxMV2P2TkflT"
      },
      "source": [
        "Region hovestaden has the highest number of crimes. we can say, being a capital it is most populated and exposed area. So the number of crimes happenes in Region hovedstaden are the highest. Now we need to find which kommune has the highest number, so that we can prevent the crimes and make the society to live a better place."
      ]
    },
    {
      "cell_type": "code",
      "metadata": {
        "id": "5A7GZ5H6k5Kv",
        "colab": {
          "base_uri": "https://localhost:8080/",
          "height": 203
        },
        "outputId": "2b0b7a55-432f-4322-ddb2-9e318723f718"
      },
      "source": [
        "df_hd = pd.read_excel('/content/drive/My Drive/PYTHON   SQL   EXCEL/postcode.xlsx')\n",
        "df_hd.head()"
      ],
      "execution_count": 39,
      "outputs": [
        {
          "output_type": "execute_result",
          "data": {
            "text/html": [
              "<div>\n",
              "<style scoped>\n",
              "    .dataframe tbody tr th:only-of-type {\n",
              "        vertical-align: middle;\n",
              "    }\n",
              "\n",
              "    .dataframe tbody tr th {\n",
              "        vertical-align: top;\n",
              "    }\n",
              "\n",
              "    .dataframe thead th {\n",
              "        text-align: right;\n",
              "    }\n",
              "</style>\n",
              "<table border=\"1\" class=\"dataframe\">\n",
              "  <thead>\n",
              "    <tr style=\"text-align: right;\">\n",
              "      <th></th>\n",
              "      <th>Region Hovedstaden</th>\n",
              "      <th>Postcode</th>\n",
              "      <th>Population</th>\n",
              "    </tr>\n",
              "  </thead>\n",
              "  <tbody>\n",
              "    <tr>\n",
              "      <th>0</th>\n",
              "      <td>Albertslund</td>\n",
              "      <td>2620</td>\n",
              "      <td>30000</td>\n",
              "    </tr>\n",
              "    <tr>\n",
              "      <th>1</th>\n",
              "      <td>Allerod</td>\n",
              "      <td>3450</td>\n",
              "      <td>16762</td>\n",
              "    </tr>\n",
              "    <tr>\n",
              "      <th>2</th>\n",
              "      <td>Ballerup</td>\n",
              "      <td>2750</td>\n",
              "      <td>48231</td>\n",
              "    </tr>\n",
              "    <tr>\n",
              "      <th>3</th>\n",
              "      <td>Bornholm</td>\n",
              "      <td>3700</td>\n",
              "      <td>39570</td>\n",
              "    </tr>\n",
              "    <tr>\n",
              "      <th>4</th>\n",
              "      <td>Brondby</td>\n",
              "      <td>2605</td>\n",
              "      <td>35094</td>\n",
              "    </tr>\n",
              "  </tbody>\n",
              "</table>\n",
              "</div>"
            ],
            "text/plain": [
              "  Region Hovedstaden  Postcode  Population\n",
              "0        Albertslund      2620       30000\n",
              "1            Allerod      3450       16762\n",
              "2           Ballerup      2750       48231\n",
              "3           Bornholm      3700       39570\n",
              "4            Brondby      2605       35094"
            ]
          },
          "metadata": {
            "tags": []
          },
          "execution_count": 39
        }
      ]
    },
    {
      "cell_type": "code",
      "metadata": {
        "colab": {
          "base_uri": "https://localhost:8080/",
          "height": 203
        },
        "id": "yUouE6QIlHqL",
        "outputId": "b1afec61-0cbd-45b9-d4b7-ef090f682c08"
      },
      "source": [
        "df_hd.rename(columns = {'Region Hovedstaden':'REGION'}, inplace = True)\n",
        "df_hd.head()"
      ],
      "execution_count": 40,
      "outputs": [
        {
          "output_type": "execute_result",
          "data": {
            "text/html": [
              "<div>\n",
              "<style scoped>\n",
              "    .dataframe tbody tr th:only-of-type {\n",
              "        vertical-align: middle;\n",
              "    }\n",
              "\n",
              "    .dataframe tbody tr th {\n",
              "        vertical-align: top;\n",
              "    }\n",
              "\n",
              "    .dataframe thead th {\n",
              "        text-align: right;\n",
              "    }\n",
              "</style>\n",
              "<table border=\"1\" class=\"dataframe\">\n",
              "  <thead>\n",
              "    <tr style=\"text-align: right;\">\n",
              "      <th></th>\n",
              "      <th>REGION</th>\n",
              "      <th>Postcode</th>\n",
              "      <th>Population</th>\n",
              "    </tr>\n",
              "  </thead>\n",
              "  <tbody>\n",
              "    <tr>\n",
              "      <th>0</th>\n",
              "      <td>Albertslund</td>\n",
              "      <td>2620</td>\n",
              "      <td>30000</td>\n",
              "    </tr>\n",
              "    <tr>\n",
              "      <th>1</th>\n",
              "      <td>Allerod</td>\n",
              "      <td>3450</td>\n",
              "      <td>16762</td>\n",
              "    </tr>\n",
              "    <tr>\n",
              "      <th>2</th>\n",
              "      <td>Ballerup</td>\n",
              "      <td>2750</td>\n",
              "      <td>48231</td>\n",
              "    </tr>\n",
              "    <tr>\n",
              "      <th>3</th>\n",
              "      <td>Bornholm</td>\n",
              "      <td>3700</td>\n",
              "      <td>39570</td>\n",
              "    </tr>\n",
              "    <tr>\n",
              "      <th>4</th>\n",
              "      <td>Brondby</td>\n",
              "      <td>2605</td>\n",
              "      <td>35094</td>\n",
              "    </tr>\n",
              "  </tbody>\n",
              "</table>\n",
              "</div>"
            ],
            "text/plain": [
              "        REGION  Postcode  Population\n",
              "0  Albertslund      2620       30000\n",
              "1      Allerod      3450       16762\n",
              "2     Ballerup      2750       48231\n",
              "3     Bornholm      3700       39570\n",
              "4      Brondby      2605       35094"
            ]
          },
          "metadata": {
            "tags": []
          },
          "execution_count": 40
        }
      ]
    },
    {
      "cell_type": "code",
      "metadata": {
        "colab": {
          "base_uri": "https://localhost:8080/",
          "height": 203
        },
        "id": "ejSgQmrR0B0C",
        "outputId": "76b29ccb-52ba-433e-e47d-e646aeac00d9"
      },
      "source": [
        "df_crime_2011_2019.head()"
      ],
      "execution_count": 41,
      "outputs": [
        {
          "output_type": "execute_result",
          "data": {
            "text/html": [
              "<div>\n",
              "<style scoped>\n",
              "    .dataframe tbody tr th:only-of-type {\n",
              "        vertical-align: middle;\n",
              "    }\n",
              "\n",
              "    .dataframe tbody tr th {\n",
              "        vertical-align: top;\n",
              "    }\n",
              "\n",
              "    .dataframe thead th {\n",
              "        text-align: right;\n",
              "    }\n",
              "</style>\n",
              "<table border=\"1\" class=\"dataframe\">\n",
              "  <thead>\n",
              "    <tr style=\"text-align: right;\">\n",
              "      <th></th>\n",
              "      <th>REGION</th>\n",
              "      <th>TYPE OF OFFENCE</th>\n",
              "      <th>2011</th>\n",
              "      <th>2012</th>\n",
              "      <th>2013</th>\n",
              "      <th>2014</th>\n",
              "      <th>2015</th>\n",
              "      <th>2016</th>\n",
              "      <th>2017</th>\n",
              "      <th>2018</th>\n",
              "      <th>2019</th>\n",
              "    </tr>\n",
              "  </thead>\n",
              "  <tbody>\n",
              "    <tr>\n",
              "      <th>0</th>\n",
              "      <td>Region Hovedstaden</td>\n",
              "      <td>Nature of the offence, total</td>\n",
              "      <td>202970.0</td>\n",
              "      <td>204274.0</td>\n",
              "      <td>208816.0</td>\n",
              "      <td>202023.0</td>\n",
              "      <td>193120.0</td>\n",
              "      <td>202452.0</td>\n",
              "      <td>189518.0</td>\n",
              "      <td>181544.0</td>\n",
              "      <td>133848.0</td>\n",
              "    </tr>\n",
              "    <tr>\n",
              "      <th>1</th>\n",
              "      <td>Region Hovedstaden</td>\n",
              "      <td>Penal Code, total</td>\n",
              "      <td>175579.0</td>\n",
              "      <td>175146.0</td>\n",
              "      <td>172440.0</td>\n",
              "      <td>163923.0</td>\n",
              "      <td>158254.0</td>\n",
              "      <td>165432.0</td>\n",
              "      <td>153951.0</td>\n",
              "      <td>140684.0</td>\n",
              "      <td>99781.0</td>\n",
              "    </tr>\n",
              "    <tr>\n",
              "      <th>3</th>\n",
              "      <td>Region Hovedstaden</td>\n",
              "      <td>Sexual offenses, total</td>\n",
              "      <td>610.0</td>\n",
              "      <td>667.0</td>\n",
              "      <td>653.0</td>\n",
              "      <td>574.0</td>\n",
              "      <td>705.0</td>\n",
              "      <td>1522.0</td>\n",
              "      <td>1526.0</td>\n",
              "      <td>2221.0</td>\n",
              "      <td>1063.0</td>\n",
              "    </tr>\n",
              "    <tr>\n",
              "      <th>5</th>\n",
              "      <td>Region Hovedstaden</td>\n",
              "      <td>Rape, etc.</td>\n",
              "      <td>86.0</td>\n",
              "      <td>89.0</td>\n",
              "      <td>103.0</td>\n",
              "      <td>113.0</td>\n",
              "      <td>127.0</td>\n",
              "      <td>234.0</td>\n",
              "      <td>284.0</td>\n",
              "      <td>299.0</td>\n",
              "      <td>215.0</td>\n",
              "    </tr>\n",
              "    <tr>\n",
              "      <th>13</th>\n",
              "      <td>Region Hovedstaden</td>\n",
              "      <td>Offence against public decency by groping</td>\n",
              "      <td>128.0</td>\n",
              "      <td>124.0</td>\n",
              "      <td>124.0</td>\n",
              "      <td>122.0</td>\n",
              "      <td>186.0</td>\n",
              "      <td>214.0</td>\n",
              "      <td>266.0</td>\n",
              "      <td>270.0</td>\n",
              "      <td>201.0</td>\n",
              "    </tr>\n",
              "  </tbody>\n",
              "</table>\n",
              "</div>"
            ],
            "text/plain": [
              "                REGION  ...      2019\n",
              "0   Region Hovedstaden  ...  133848.0\n",
              "1   Region Hovedstaden  ...   99781.0\n",
              "3   Region Hovedstaden  ...    1063.0\n",
              "5   Region Hovedstaden  ...     215.0\n",
              "13  Region Hovedstaden  ...     201.0\n",
              "\n",
              "[5 rows x 11 columns]"
            ]
          },
          "metadata": {
            "tags": []
          },
          "execution_count": 41
        }
      ]
    },
    {
      "cell_type": "code",
      "metadata": {
        "id": "Z0YVUkzjoY6K",
        "colab": {
          "base_uri": "https://localhost:8080/",
          "height": 203
        },
        "outputId": "17679549-0c12-41bf-b83a-6aea8ba77538"
      },
      "source": [
        "df_hd = df_hd.merge(df_crime_2011_2019, on='REGION', how = 'inner' )\n",
        "df_hd.head(5)"
      ],
      "execution_count": 42,
      "outputs": [
        {
          "output_type": "execute_result",
          "data": {
            "text/html": [
              "<div>\n",
              "<style scoped>\n",
              "    .dataframe tbody tr th:only-of-type {\n",
              "        vertical-align: middle;\n",
              "    }\n",
              "\n",
              "    .dataframe tbody tr th {\n",
              "        vertical-align: top;\n",
              "    }\n",
              "\n",
              "    .dataframe thead th {\n",
              "        text-align: right;\n",
              "    }\n",
              "</style>\n",
              "<table border=\"1\" class=\"dataframe\">\n",
              "  <thead>\n",
              "    <tr style=\"text-align: right;\">\n",
              "      <th></th>\n",
              "      <th>REGION</th>\n",
              "      <th>Postcode</th>\n",
              "      <th>Population</th>\n",
              "      <th>TYPE OF OFFENCE</th>\n",
              "      <th>2011</th>\n",
              "      <th>2012</th>\n",
              "      <th>2013</th>\n",
              "      <th>2014</th>\n",
              "      <th>2015</th>\n",
              "      <th>2016</th>\n",
              "      <th>2017</th>\n",
              "      <th>2018</th>\n",
              "      <th>2019</th>\n",
              "    </tr>\n",
              "  </thead>\n",
              "  <tbody>\n",
              "    <tr>\n",
              "      <th>0</th>\n",
              "      <td>Albertslund</td>\n",
              "      <td>2620</td>\n",
              "      <td>30000</td>\n",
              "      <td>Nature of the offence, total</td>\n",
              "      <td>2854.0</td>\n",
              "      <td>2850.0</td>\n",
              "      <td>3182.0</td>\n",
              "      <td>2779.0</td>\n",
              "      <td>2584.0</td>\n",
              "      <td>2767.0</td>\n",
              "      <td>2538.0</td>\n",
              "      <td>2507.0</td>\n",
              "      <td>1956.0</td>\n",
              "    </tr>\n",
              "    <tr>\n",
              "      <th>1</th>\n",
              "      <td>Albertslund</td>\n",
              "      <td>2620</td>\n",
              "      <td>30000</td>\n",
              "      <td>Penal Code, total</td>\n",
              "      <td>2461.0</td>\n",
              "      <td>2385.0</td>\n",
              "      <td>2461.0</td>\n",
              "      <td>2225.0</td>\n",
              "      <td>2056.0</td>\n",
              "      <td>2187.0</td>\n",
              "      <td>1898.0</td>\n",
              "      <td>1781.0</td>\n",
              "      <td>1345.0</td>\n",
              "    </tr>\n",
              "    <tr>\n",
              "      <th>2</th>\n",
              "      <td>Albertslund</td>\n",
              "      <td>2620</td>\n",
              "      <td>30000</td>\n",
              "      <td>Crimes of violence, total</td>\n",
              "      <td>120.0</td>\n",
              "      <td>115.0</td>\n",
              "      <td>121.0</td>\n",
              "      <td>166.0</td>\n",
              "      <td>126.0</td>\n",
              "      <td>113.0</td>\n",
              "      <td>150.0</td>\n",
              "      <td>187.0</td>\n",
              "      <td>135.0</td>\n",
              "    </tr>\n",
              "    <tr>\n",
              "      <th>3</th>\n",
              "      <td>Albertslund</td>\n",
              "      <td>2620</td>\n",
              "      <td>30000</td>\n",
              "      <td>Violence against public authority</td>\n",
              "      <td>10.0</td>\n",
              "      <td>17.0</td>\n",
              "      <td>33.0</td>\n",
              "      <td>44.0</td>\n",
              "      <td>24.0</td>\n",
              "      <td>17.0</td>\n",
              "      <td>23.0</td>\n",
              "      <td>40.0</td>\n",
              "      <td>23.0</td>\n",
              "    </tr>\n",
              "    <tr>\n",
              "      <th>4</th>\n",
              "      <td>Albertslund</td>\n",
              "      <td>2620</td>\n",
              "      <td>30000</td>\n",
              "      <td>Common assault</td>\n",
              "      <td>67.0</td>\n",
              "      <td>54.0</td>\n",
              "      <td>34.0</td>\n",
              "      <td>66.0</td>\n",
              "      <td>61.0</td>\n",
              "      <td>50.0</td>\n",
              "      <td>64.0</td>\n",
              "      <td>80.0</td>\n",
              "      <td>52.0</td>\n",
              "    </tr>\n",
              "  </tbody>\n",
              "</table>\n",
              "</div>"
            ],
            "text/plain": [
              "        REGION  Postcode  Population  ...    2017    2018    2019\n",
              "0  Albertslund      2620       30000  ...  2538.0  2507.0  1956.0\n",
              "1  Albertslund      2620       30000  ...  1898.0  1781.0  1345.0\n",
              "2  Albertslund      2620       30000  ...   150.0   187.0   135.0\n",
              "3  Albertslund      2620       30000  ...    23.0    40.0    23.0\n",
              "4  Albertslund      2620       30000  ...    64.0    80.0    52.0\n",
              "\n",
              "[5 rows x 13 columns]"
            ]
          },
          "metadata": {
            "tags": []
          },
          "execution_count": 42
        }
      ]
    },
    {
      "cell_type": "code",
      "metadata": {
        "id": "-LK7qfLk0SwZ"
      },
      "source": [
        "df_hd.to_excel('/content/drive/My Drive/PYTHON   SQL   EXCEL/postcode1.xlsx')"
      ],
      "execution_count": 43,
      "outputs": []
    },
    {
      "cell_type": "code",
      "metadata": {
        "colab": {
          "base_uri": "https://localhost:8080/",
          "height": 442
        },
        "id": "d0o127ORsO-l",
        "outputId": "9d56316e-980b-4dfd-91df-c07659573161"
      },
      "source": [
        "# crime per capita (10,000)\n",
        "df_hd['crime_per_capita(2019)'] = df_hd['2019']/df_hd['Population']\n",
        "df_hd['crime_per_capita(2018)'] = df_hd['2018']/df_hd['Population']\n",
        "df_hd['crime_per_capita(2017)'] = df_hd['2017']/df_hd['Population']\n",
        "df_hd['crime_per_capita(2016)'] = df_hd['2016']/df_hd['Population']\n",
        "df_hd.head()"
      ],
      "execution_count": 44,
      "outputs": [
        {
          "output_type": "execute_result",
          "data": {
            "text/html": [
              "<div>\n",
              "<style scoped>\n",
              "    .dataframe tbody tr th:only-of-type {\n",
              "        vertical-align: middle;\n",
              "    }\n",
              "\n",
              "    .dataframe tbody tr th {\n",
              "        vertical-align: top;\n",
              "    }\n",
              "\n",
              "    .dataframe thead th {\n",
              "        text-align: right;\n",
              "    }\n",
              "</style>\n",
              "<table border=\"1\" class=\"dataframe\">\n",
              "  <thead>\n",
              "    <tr style=\"text-align: right;\">\n",
              "      <th></th>\n",
              "      <th>REGION</th>\n",
              "      <th>Postcode</th>\n",
              "      <th>Population</th>\n",
              "      <th>TYPE OF OFFENCE</th>\n",
              "      <th>2011</th>\n",
              "      <th>2012</th>\n",
              "      <th>2013</th>\n",
              "      <th>2014</th>\n",
              "      <th>2015</th>\n",
              "      <th>2016</th>\n",
              "      <th>2017</th>\n",
              "      <th>2018</th>\n",
              "      <th>2019</th>\n",
              "      <th>crime_per_capita(2019)</th>\n",
              "      <th>crime_per_capita(2018)</th>\n",
              "      <th>crime_per_capita(2017)</th>\n",
              "      <th>crime_per_capita(2016)</th>\n",
              "    </tr>\n",
              "  </thead>\n",
              "  <tbody>\n",
              "    <tr>\n",
              "      <th>0</th>\n",
              "      <td>Albertslund</td>\n",
              "      <td>2620</td>\n",
              "      <td>30000</td>\n",
              "      <td>Nature of the offence, total</td>\n",
              "      <td>2854.0</td>\n",
              "      <td>2850.0</td>\n",
              "      <td>3182.0</td>\n",
              "      <td>2779.0</td>\n",
              "      <td>2584.0</td>\n",
              "      <td>2767.0</td>\n",
              "      <td>2538.0</td>\n",
              "      <td>2507.0</td>\n",
              "      <td>1956.0</td>\n",
              "      <td>0.065200</td>\n",
              "      <td>0.083567</td>\n",
              "      <td>0.084600</td>\n",
              "      <td>0.092233</td>\n",
              "    </tr>\n",
              "    <tr>\n",
              "      <th>1</th>\n",
              "      <td>Albertslund</td>\n",
              "      <td>2620</td>\n",
              "      <td>30000</td>\n",
              "      <td>Penal Code, total</td>\n",
              "      <td>2461.0</td>\n",
              "      <td>2385.0</td>\n",
              "      <td>2461.0</td>\n",
              "      <td>2225.0</td>\n",
              "      <td>2056.0</td>\n",
              "      <td>2187.0</td>\n",
              "      <td>1898.0</td>\n",
              "      <td>1781.0</td>\n",
              "      <td>1345.0</td>\n",
              "      <td>0.044833</td>\n",
              "      <td>0.059367</td>\n",
              "      <td>0.063267</td>\n",
              "      <td>0.072900</td>\n",
              "    </tr>\n",
              "    <tr>\n",
              "      <th>2</th>\n",
              "      <td>Albertslund</td>\n",
              "      <td>2620</td>\n",
              "      <td>30000</td>\n",
              "      <td>Crimes of violence, total</td>\n",
              "      <td>120.0</td>\n",
              "      <td>115.0</td>\n",
              "      <td>121.0</td>\n",
              "      <td>166.0</td>\n",
              "      <td>126.0</td>\n",
              "      <td>113.0</td>\n",
              "      <td>150.0</td>\n",
              "      <td>187.0</td>\n",
              "      <td>135.0</td>\n",
              "      <td>0.004500</td>\n",
              "      <td>0.006233</td>\n",
              "      <td>0.005000</td>\n",
              "      <td>0.003767</td>\n",
              "    </tr>\n",
              "    <tr>\n",
              "      <th>3</th>\n",
              "      <td>Albertslund</td>\n",
              "      <td>2620</td>\n",
              "      <td>30000</td>\n",
              "      <td>Violence against public authority</td>\n",
              "      <td>10.0</td>\n",
              "      <td>17.0</td>\n",
              "      <td>33.0</td>\n",
              "      <td>44.0</td>\n",
              "      <td>24.0</td>\n",
              "      <td>17.0</td>\n",
              "      <td>23.0</td>\n",
              "      <td>40.0</td>\n",
              "      <td>23.0</td>\n",
              "      <td>0.000767</td>\n",
              "      <td>0.001333</td>\n",
              "      <td>0.000767</td>\n",
              "      <td>0.000567</td>\n",
              "    </tr>\n",
              "    <tr>\n",
              "      <th>4</th>\n",
              "      <td>Albertslund</td>\n",
              "      <td>2620</td>\n",
              "      <td>30000</td>\n",
              "      <td>Common assault</td>\n",
              "      <td>67.0</td>\n",
              "      <td>54.0</td>\n",
              "      <td>34.0</td>\n",
              "      <td>66.0</td>\n",
              "      <td>61.0</td>\n",
              "      <td>50.0</td>\n",
              "      <td>64.0</td>\n",
              "      <td>80.0</td>\n",
              "      <td>52.0</td>\n",
              "      <td>0.001733</td>\n",
              "      <td>0.002667</td>\n",
              "      <td>0.002133</td>\n",
              "      <td>0.001667</td>\n",
              "    </tr>\n",
              "  </tbody>\n",
              "</table>\n",
              "</div>"
            ],
            "text/plain": [
              "        REGION  Postcode  ...  crime_per_capita(2017) crime_per_capita(2016)\n",
              "0  Albertslund      2620  ...                0.084600               0.092233\n",
              "1  Albertslund      2620  ...                0.063267               0.072900\n",
              "2  Albertslund      2620  ...                0.005000               0.003767\n",
              "3  Albertslund      2620  ...                0.000767               0.000567\n",
              "4  Albertslund      2620  ...                0.002133               0.001667\n",
              "\n",
              "[5 rows x 17 columns]"
            ]
          },
          "metadata": {
            "tags": []
          },
          "execution_count": 44
        }
      ]
    },
    {
      "cell_type": "code",
      "metadata": {
        "colab": {
          "base_uri": "https://localhost:8080/",
          "height": 257
        },
        "id": "uoRa-hul5mDk",
        "outputId": "3759f9e1-b859-4763-8bd7-eef9fd369cde"
      },
      "source": [
        "df_hovedstaden_offence = df_hd.groupby(['REGION','TYPE OF OFFENCE'])['crime_per_capita(2019)','crime_per_capita(2018)','crime_per_capita(2017)','crime_per_capita(2016)'].sum().reset_index()\n",
        "df_hovedstaden_offence.head()"
      ],
      "execution_count": 78,
      "outputs": [
        {
          "output_type": "stream",
          "text": [
            "/usr/local/lib/python3.7/dist-packages/ipykernel_launcher.py:1: FutureWarning: Indexing with multiple keys (implicitly converted to a tuple of keys) will be deprecated, use a list instead.\n",
            "  \"\"\"Entry point for launching an IPython kernel.\n"
          ],
          "name": "stderr"
        },
        {
          "output_type": "execute_result",
          "data": {
            "text/html": [
              "<div>\n",
              "<style scoped>\n",
              "    .dataframe tbody tr th:only-of-type {\n",
              "        vertical-align: middle;\n",
              "    }\n",
              "\n",
              "    .dataframe tbody tr th {\n",
              "        vertical-align: top;\n",
              "    }\n",
              "\n",
              "    .dataframe thead th {\n",
              "        text-align: right;\n",
              "    }\n",
              "</style>\n",
              "<table border=\"1\" class=\"dataframe\">\n",
              "  <thead>\n",
              "    <tr style=\"text-align: right;\">\n",
              "      <th></th>\n",
              "      <th>REGION</th>\n",
              "      <th>TYPE OF OFFENCE</th>\n",
              "      <th>crime_per_capita(2019)</th>\n",
              "      <th>crime_per_capita(2018)</th>\n",
              "      <th>crime_per_capita(2017)</th>\n",
              "      <th>crime_per_capita(2016)</th>\n",
              "    </tr>\n",
              "  </thead>\n",
              "  <tbody>\n",
              "    <tr>\n",
              "      <th>0</th>\n",
              "      <td>Albertslund</td>\n",
              "      <td>Any other kind of false statement</td>\n",
              "      <td>0.000300</td>\n",
              "      <td>0.000533</td>\n",
              "      <td>0.000433</td>\n",
              "      <td>0.000433</td>\n",
              "    </tr>\n",
              "    <tr>\n",
              "      <th>1</th>\n",
              "      <td>Albertslund</td>\n",
              "      <td>Burglary (uninhabited buildings)</td>\n",
              "      <td>0.000567</td>\n",
              "      <td>0.000667</td>\n",
              "      <td>0.000833</td>\n",
              "      <td>0.002333</td>\n",
              "    </tr>\n",
              "    <tr>\n",
              "      <th>2</th>\n",
              "      <td>Albertslund</td>\n",
              "      <td>Burglary - business and community</td>\n",
              "      <td>0.001100</td>\n",
              "      <td>0.002067</td>\n",
              "      <td>0.002233</td>\n",
              "      <td>0.002867</td>\n",
              "    </tr>\n",
              "    <tr>\n",
              "      <th>3</th>\n",
              "      <td>Albertslund</td>\n",
              "      <td>Common assault</td>\n",
              "      <td>0.001733</td>\n",
              "      <td>0.002667</td>\n",
              "      <td>0.002133</td>\n",
              "      <td>0.001667</td>\n",
              "    </tr>\n",
              "    <tr>\n",
              "      <th>4</th>\n",
              "      <td>Albertslund</td>\n",
              "      <td>Crimes of violence, total</td>\n",
              "      <td>0.004500</td>\n",
              "      <td>0.006233</td>\n",
              "      <td>0.005000</td>\n",
              "      <td>0.003767</td>\n",
              "    </tr>\n",
              "  </tbody>\n",
              "</table>\n",
              "</div>"
            ],
            "text/plain": [
              "        REGION  ... crime_per_capita(2016)\n",
              "0  Albertslund  ...               0.000433\n",
              "1  Albertslund  ...               0.002333\n",
              "2  Albertslund  ...               0.002867\n",
              "3  Albertslund  ...               0.001667\n",
              "4  Albertslund  ...               0.003767\n",
              "\n",
              "[5 rows x 6 columns]"
            ]
          },
          "metadata": {
            "tags": []
          },
          "execution_count": 78
        }
      ]
    },
    {
      "cell_type": "code",
      "metadata": {
        "colab": {
          "base_uri": "https://localhost:8080/",
          "height": 257
        },
        "id": "QpqbTDEL3dxY",
        "outputId": "a8933d67-ffe2-4bcb-82a4-40380f5413c8"
      },
      "source": [
        "df_hovedstaden = df_hd.groupby(['REGION'])['crime_per_capita(2019)','crime_per_capita(2018)','crime_per_capita(2017)','crime_per_capita(2016)'].sum().reset_index()\n",
        "df_hovedstaden.head()"
      ],
      "execution_count": 46,
      "outputs": [
        {
          "output_type": "stream",
          "text": [
            "/usr/local/lib/python3.7/dist-packages/ipykernel_launcher.py:1: FutureWarning: Indexing with multiple keys (implicitly converted to a tuple of keys) will be deprecated, use a list instead.\n",
            "  \"\"\"Entry point for launching an IPython kernel.\n"
          ],
          "name": "stderr"
        },
        {
          "output_type": "execute_result",
          "data": {
            "text/html": [
              "<div>\n",
              "<style scoped>\n",
              "    .dataframe tbody tr th:only-of-type {\n",
              "        vertical-align: middle;\n",
              "    }\n",
              "\n",
              "    .dataframe tbody tr th {\n",
              "        vertical-align: top;\n",
              "    }\n",
              "\n",
              "    .dataframe thead th {\n",
              "        text-align: right;\n",
              "    }\n",
              "</style>\n",
              "<table border=\"1\" class=\"dataframe\">\n",
              "  <thead>\n",
              "    <tr style=\"text-align: right;\">\n",
              "      <th></th>\n",
              "      <th>REGION</th>\n",
              "      <th>crime_per_capita(2019)</th>\n",
              "      <th>crime_per_capita(2018)</th>\n",
              "      <th>crime_per_capita(2017)</th>\n",
              "      <th>crime_per_capita(2016)</th>\n",
              "    </tr>\n",
              "  </thead>\n",
              "  <tbody>\n",
              "    <tr>\n",
              "      <th>0</th>\n",
              "      <td>Albertslund</td>\n",
              "      <td>0.229300</td>\n",
              "      <td>0.294867</td>\n",
              "      <td>0.300333</td>\n",
              "      <td>0.329500</td>\n",
              "    </tr>\n",
              "    <tr>\n",
              "      <th>1</th>\n",
              "      <td>Ballerup</td>\n",
              "      <td>0.218366</td>\n",
              "      <td>0.280318</td>\n",
              "      <td>0.324646</td>\n",
              "      <td>0.325538</td>\n",
              "    </tr>\n",
              "    <tr>\n",
              "      <th>2</th>\n",
              "      <td>Bornholm</td>\n",
              "      <td>0.111170</td>\n",
              "      <td>0.133384</td>\n",
              "      <td>0.142406</td>\n",
              "      <td>0.150644</td>\n",
              "    </tr>\n",
              "    <tr>\n",
              "      <th>3</th>\n",
              "      <td>Egedal</td>\n",
              "      <td>0.093978</td>\n",
              "      <td>0.152517</td>\n",
              "      <td>0.154195</td>\n",
              "      <td>0.175284</td>\n",
              "    </tr>\n",
              "    <tr>\n",
              "      <th>4</th>\n",
              "      <td>Fredensborg</td>\n",
              "      <td>0.114359</td>\n",
              "      <td>0.166721</td>\n",
              "      <td>0.176961</td>\n",
              "      <td>0.200020</td>\n",
              "    </tr>\n",
              "  </tbody>\n",
              "</table>\n",
              "</div>"
            ],
            "text/plain": [
              "        REGION  ...  crime_per_capita(2016)\n",
              "0  Albertslund  ...                0.329500\n",
              "1     Ballerup  ...                0.325538\n",
              "2     Bornholm  ...                0.150644\n",
              "3       Egedal  ...                0.175284\n",
              "4  Fredensborg  ...                0.200020\n",
              "\n",
              "[5 rows x 5 columns]"
            ]
          },
          "metadata": {
            "tags": []
          },
          "execution_count": 46
        }
      ]
    },
    {
      "cell_type": "code",
      "metadata": {
        "id": "FaREorJpIKdJ",
        "colab": {
          "base_uri": "https://localhost:8080/",
          "height": 203
        },
        "outputId": "774f80a5-f061-4170-c7cc-d1c9d4ece6e3"
      },
      "source": [
        "df_hovedstaden.sort_values(['crime_per_capita(2019)','crime_per_capita(2018)','crime_per_capita(2017)','crime_per_capita(2016)'], ascending=False, inplace=True) \n",
        "df_hovedstaden.head()"
      ],
      "execution_count": 47,
      "outputs": [
        {
          "output_type": "execute_result",
          "data": {
            "text/html": [
              "<div>\n",
              "<style scoped>\n",
              "    .dataframe tbody tr th:only-of-type {\n",
              "        vertical-align: middle;\n",
              "    }\n",
              "\n",
              "    .dataframe tbody tr th {\n",
              "        vertical-align: top;\n",
              "    }\n",
              "\n",
              "    .dataframe thead th {\n",
              "        text-align: right;\n",
              "    }\n",
              "</style>\n",
              "<table border=\"1\" class=\"dataframe\">\n",
              "  <thead>\n",
              "    <tr style=\"text-align: right;\">\n",
              "      <th></th>\n",
              "      <th>REGION</th>\n",
              "      <th>crime_per_capita(2019)</th>\n",
              "      <th>crime_per_capita(2018)</th>\n",
              "      <th>crime_per_capita(2017)</th>\n",
              "      <th>crime_per_capita(2016)</th>\n",
              "    </tr>\n",
              "  </thead>\n",
              "  <tbody>\n",
              "    <tr>\n",
              "      <th>9</th>\n",
              "      <td>Glostrup</td>\n",
              "      <td>0.274991</td>\n",
              "      <td>0.449066</td>\n",
              "      <td>0.417070</td>\n",
              "      <td>0.465021</td>\n",
              "    </tr>\n",
              "    <tr>\n",
              "      <th>11</th>\n",
              "      <td>Herlev</td>\n",
              "      <td>0.258267</td>\n",
              "      <td>0.366199</td>\n",
              "      <td>0.343399</td>\n",
              "      <td>0.347636</td>\n",
              "    </tr>\n",
              "    <tr>\n",
              "      <th>0</th>\n",
              "      <td>Albertslund</td>\n",
              "      <td>0.229300</td>\n",
              "      <td>0.294867</td>\n",
              "      <td>0.300333</td>\n",
              "      <td>0.329500</td>\n",
              "    </tr>\n",
              "    <tr>\n",
              "      <th>1</th>\n",
              "      <td>Ballerup</td>\n",
              "      <td>0.218366</td>\n",
              "      <td>0.280318</td>\n",
              "      <td>0.324646</td>\n",
              "      <td>0.325538</td>\n",
              "    </tr>\n",
              "    <tr>\n",
              "      <th>12</th>\n",
              "      <td>Hvidovre</td>\n",
              "      <td>0.212165</td>\n",
              "      <td>0.307267</td>\n",
              "      <td>0.330669</td>\n",
              "      <td>0.302194</td>\n",
              "    </tr>\n",
              "  </tbody>\n",
              "</table>\n",
              "</div>"
            ],
            "text/plain": [
              "         REGION  ...  crime_per_capita(2016)\n",
              "9      Glostrup  ...                0.465021\n",
              "11       Herlev  ...                0.347636\n",
              "0   Albertslund  ...                0.329500\n",
              "1      Ballerup  ...                0.325538\n",
              "12     Hvidovre  ...                0.302194\n",
              "\n",
              "[5 rows x 5 columns]"
            ]
          },
          "metadata": {
            "tags": []
          },
          "execution_count": 47
        }
      ]
    },
    {
      "cell_type": "code",
      "metadata": {
        "id": "o0AZTkTmIjF4",
        "colab": {
          "base_uri": "https://localhost:8080/",
          "height": 350
        },
        "outputId": "be843289-c4f4-497e-c459-27ad2cf2a3d6"
      },
      "source": [
        "df_hovedstaden.plot(x='REGION',y=['crime_per_capita(2019)','crime_per_capita(2018)','crime_per_capita(2017)','crime_per_capita(2016)'], figsize=(20, 5), kind='area')\n",
        "plt.ylabel('Offence per-capita')\n",
        "plt.xlabel('Region')\n",
        "plt.title('Offence per capita in hovedstaden regions of Denmark through year 2019-2016')\n",
        "plt.show()"
      ],
      "execution_count": 48,
      "outputs": [
        {
          "output_type": "display_data",
          "data": {
            "image/png": "[encoded data removed]",
            "text/plain": [
              "<Figure size 1440x360 with 1 Axes>"
            ]
          },
          "metadata": {
            "tags": [],
            "needs_background": "light"
          }
        }
      ]
    },
    {
      "cell_type": "code",
      "metadata": {
        "id": "MoyfZ4QNIyVI",
        "colab": {
          "base_uri": "https://localhost:8080/",
          "height": 480
        },
        "outputId": "26cc914a-f291-4178-bd1a-949f335783d7"
      },
      "source": [
        "df_offence_plot = df_hovedstaden_offence.groupby(['REGION'])['TYPE OF OFFENCE'].count().reset_index()\n",
        "df_offence_plot.sort_values(['TYPE OF OFFENCE'], ascending=False, inplace=True)\n",
        "df_offence_plot"
      ],
      "execution_count": 49,
      "outputs": [
        {
          "output_type": "execute_result",
          "data": {
            "text/html": [
              "<div>\n",
              "<style scoped>\n",
              "    .dataframe tbody tr th:only-of-type {\n",
              "        vertical-align: middle;\n",
              "    }\n",
              "\n",
              "    .dataframe tbody tr th {\n",
              "        vertical-align: top;\n",
              "    }\n",
              "\n",
              "    .dataframe thead th {\n",
              "        text-align: right;\n",
              "    }\n",
              "</style>\n",
              "<table border=\"1\" class=\"dataframe\">\n",
              "  <thead>\n",
              "    <tr style=\"text-align: right;\">\n",
              "      <th></th>\n",
              "      <th>REGION</th>\n",
              "      <th>TYPE OF OFFENCE</th>\n",
              "    </tr>\n",
              "  </thead>\n",
              "  <tbody>\n",
              "    <tr>\n",
              "      <th>5</th>\n",
              "      <td>Frederiksberg</td>\n",
              "      <td>27</td>\n",
              "    </tr>\n",
              "    <tr>\n",
              "      <th>6</th>\n",
              "      <td>Frederikssund</td>\n",
              "      <td>27</td>\n",
              "    </tr>\n",
              "    <tr>\n",
              "      <th>7</th>\n",
              "      <td>Gentofte</td>\n",
              "      <td>27</td>\n",
              "    </tr>\n",
              "    <tr>\n",
              "      <th>12</th>\n",
              "      <td>Hvidovre</td>\n",
              "      <td>27</td>\n",
              "    </tr>\n",
              "    <tr>\n",
              "      <th>0</th>\n",
              "      <td>Albertslund</td>\n",
              "      <td>26</td>\n",
              "    </tr>\n",
              "    <tr>\n",
              "      <th>1</th>\n",
              "      <td>Ballerup</td>\n",
              "      <td>26</td>\n",
              "    </tr>\n",
              "    <tr>\n",
              "      <th>8</th>\n",
              "      <td>Gladsaxe</td>\n",
              "      <td>25</td>\n",
              "    </tr>\n",
              "    <tr>\n",
              "      <th>10</th>\n",
              "      <td>Gribskov</td>\n",
              "      <td>25</td>\n",
              "    </tr>\n",
              "    <tr>\n",
              "      <th>9</th>\n",
              "      <td>Glostrup</td>\n",
              "      <td>24</td>\n",
              "    </tr>\n",
              "    <tr>\n",
              "      <th>11</th>\n",
              "      <td>Herlev</td>\n",
              "      <td>24</td>\n",
              "    </tr>\n",
              "    <tr>\n",
              "      <th>3</th>\n",
              "      <td>Egedal</td>\n",
              "      <td>23</td>\n",
              "    </tr>\n",
              "    <tr>\n",
              "      <th>13</th>\n",
              "      <td>Rudersdal</td>\n",
              "      <td>23</td>\n",
              "    </tr>\n",
              "    <tr>\n",
              "      <th>2</th>\n",
              "      <td>Bornholm</td>\n",
              "      <td>22</td>\n",
              "    </tr>\n",
              "    <tr>\n",
              "      <th>4</th>\n",
              "      <td>Fredensborg</td>\n",
              "      <td>22</td>\n",
              "    </tr>\n",
              "  </tbody>\n",
              "</table>\n",
              "</div>"
            ],
            "text/plain": [
              "           REGION  TYPE OF OFFENCE\n",
              "5   Frederiksberg               27\n",
              "6   Frederikssund               27\n",
              "7        Gentofte               27\n",
              "12       Hvidovre               27\n",
              "0     Albertslund               26\n",
              "1        Ballerup               26\n",
              "8        Gladsaxe               25\n",
              "10       Gribskov               25\n",
              "9        Glostrup               24\n",
              "11         Herlev               24\n",
              "3          Egedal               23\n",
              "13      Rudersdal               23\n",
              "2        Bornholm               22\n",
              "4     Fredensborg               22"
            ]
          },
          "metadata": {
            "tags": []
          },
          "execution_count": 49
        }
      ]
    },
    {
      "cell_type": "code",
      "metadata": {
        "id": "remVKxU21u7J"
      },
      "source": [
        "new_df_hd = df_hd['']"
      ],
      "execution_count": null,
      "outputs": []
    },
    {
      "cell_type": "code",
      "metadata": {
        "colab": {
          "base_uri": "https://localhost:8080/",
          "height": 559
        },
        "id": "m4optSGQ__ak",
        "outputId": "31f23025-e558-4670-a5ff-f12acb0d6762"
      },
      "source": [
        "fig = plt.figure(figsize=(20,8)) \n",
        "\n",
        "#  subplot #1\n",
        "plt.subplot(121)\n",
        "plt.title('Types of offence per capita 2019')\n",
        "sns.lineplot(data = df_hovedstaden_offence, x=df_hovedstaden_offence['REGION'],y=df_hovedstaden_offence['crime_per_capita(2019)'])\n",
        "plt.xticks(rotation= 45)\n",
        "\n",
        "#  subplot #2\n",
        "plt.subplot(122)\n",
        "plt.title('Count of crimes type 2019 per capita')\n",
        "sns.barplot(data = df_offence_plot,x='REGION',y='TYPE OF OFFENCE')\n",
        "plt.xticks(rotation= 45)\n",
        "\n",
        "\n",
        "plt.show()"
      ],
      "execution_count": 54,
      "outputs": [
        {
          "output_type": "display_data",
          "data": {
            "image/png": "[encoded data removed]",
            "text/plain": [
              "<Figure size 1440x576 with 2 Axes>"
            ]
          },
          "metadata": {
            "tags": [],
            "needs_background": "light"
          }
        }
      ]
    },
    {
      "cell_type": "markdown",
      "metadata": {
        "id": "Na-dIgseJgsV"
      },
      "source": [
        "*We can see that Glostrup is on top with crime per capita but if we say types of crimes(different crimes), it has happened more in Frederiksberg, frederikssund, gentofte and Hvodovre. So in these 4 Kommunes crimes are happening more in variance."
      ]
    },
    {
      "cell_type": "code",
      "metadata": {
        "id": "vZlbex9IrBR4"
      },
      "source": [
        "df_glostrup = df_hovedstaden_offence[df_hovedstaden_offence['REGION'].isin(['Glostrup'])]"
      ],
      "execution_count": 89,
      "outputs": []
    },
    {
      "cell_type": "code",
      "metadata": {
        "id": "KWWzD8BGQYpx",
        "colab": {
          "base_uri": "https://localhost:8080/",
          "height": 493
        },
        "outputId": "385b7e1f-004c-4362-9669-6e50655b61af"
      },
      "source": [
        "fig = plt.figure(figsize=(20,8)) \n",
        "\n",
        "plt.title('Types of crime in Glostrup')\n",
        "sns.barplot(data = df_glostrup, x=df_glostrup['crime_per_capita(2019)'] , y=df_glostrup['TYPE OF OFFENCE'])\n",
        "\n",
        "plt.show( )"
      ],
      "execution_count": 92,
      "outputs": [
        {
          "output_type": "display_data",
          "data": {
            "image/png": "[encoded data removed]",
            "text/plain": [
              "<Figure size 1440x576 with 1 Axes>"
            ]
          },
          "metadata": {
            "tags": [],
            "needs_background": "light"
          }
        }
      ]
    },
    {
      "cell_type": "markdown",
      "metadata": {
        "id": "f8n4UW5F06S9"
      },
      "source": [
        "We can see in Glostrup there is offences against public authority and Penal code are among the highest."
      ]
    },
    {
      "cell_type": "code",
      "metadata": {
        "colab": {
          "base_uri": "https://localhost:8080/",
          "height": 417
        },
        "id": "eAxo2Y0W2EXB",
        "outputId": "ae42e721-f4ab-45be-d854-cc8fc9ee2e3c"
      },
      "source": [
        "hd_new = df_hd[['REGION','Postcode','Population','TYPE OF OFFENCE','crime_per_capita(2019)','crime_per_capita(2018)','crime_per_capita(2017)','crime_per_capita(2016)']]\n",
        "hd_new"
      ],
      "execution_count": 93,
      "outputs": [
        {
          "output_type": "execute_result",
          "data": {
            "text/html": [
              "<div>\n",
              "<style scoped>\n",
              "    .dataframe tbody tr th:only-of-type {\n",
              "        vertical-align: middle;\n",
              "    }\n",
              "\n",
              "    .dataframe tbody tr th {\n",
              "        vertical-align: top;\n",
              "    }\n",
              "\n",
              "    .dataframe thead th {\n",
              "        text-align: right;\n",
              "    }\n",
              "</style>\n",
              "<table border=\"1\" class=\"dataframe\">\n",
              "  <thead>\n",
              "    <tr style=\"text-align: right;\">\n",
              "      <th></th>\n",
              "      <th>REGION</th>\n",
              "      <th>Postcode</th>\n",
              "      <th>Population</th>\n",
              "      <th>TYPE OF OFFENCE</th>\n",
              "      <th>crime_per_capita(2019)</th>\n",
              "      <th>crime_per_capita(2018)</th>\n",
              "      <th>crime_per_capita(2017)</th>\n",
              "      <th>crime_per_capita(2016)</th>\n",
              "    </tr>\n",
              "  </thead>\n",
              "  <tbody>\n",
              "    <tr>\n",
              "      <th>0</th>\n",
              "      <td>Albertslund</td>\n",
              "      <td>2620</td>\n",
              "      <td>30000</td>\n",
              "      <td>Nature of the offence, total</td>\n",
              "      <td>0.065200</td>\n",
              "      <td>0.083567</td>\n",
              "      <td>0.084600</td>\n",
              "      <td>0.092233</td>\n",
              "    </tr>\n",
              "    <tr>\n",
              "      <th>1</th>\n",
              "      <td>Albertslund</td>\n",
              "      <td>2620</td>\n",
              "      <td>30000</td>\n",
              "      <td>Penal Code, total</td>\n",
              "      <td>0.044833</td>\n",
              "      <td>0.059367</td>\n",
              "      <td>0.063267</td>\n",
              "      <td>0.072900</td>\n",
              "    </tr>\n",
              "    <tr>\n",
              "      <th>2</th>\n",
              "      <td>Albertslund</td>\n",
              "      <td>2620</td>\n",
              "      <td>30000</td>\n",
              "      <td>Crimes of violence, total</td>\n",
              "      <td>0.004500</td>\n",
              "      <td>0.006233</td>\n",
              "      <td>0.005000</td>\n",
              "      <td>0.003767</td>\n",
              "    </tr>\n",
              "    <tr>\n",
              "      <th>3</th>\n",
              "      <td>Albertslund</td>\n",
              "      <td>2620</td>\n",
              "      <td>30000</td>\n",
              "      <td>Violence against public authority</td>\n",
              "      <td>0.000767</td>\n",
              "      <td>0.001333</td>\n",
              "      <td>0.000767</td>\n",
              "      <td>0.000567</td>\n",
              "    </tr>\n",
              "    <tr>\n",
              "      <th>4</th>\n",
              "      <td>Albertslund</td>\n",
              "      <td>2620</td>\n",
              "      <td>30000</td>\n",
              "      <td>Common assault</td>\n",
              "      <td>0.001733</td>\n",
              "      <td>0.002667</td>\n",
              "      <td>0.002133</td>\n",
              "      <td>0.001667</td>\n",
              "    </tr>\n",
              "    <tr>\n",
              "      <th>...</th>\n",
              "      <td>...</td>\n",
              "      <td>...</td>\n",
              "      <td>...</td>\n",
              "      <td>...</td>\n",
              "      <td>...</td>\n",
              "      <td>...</td>\n",
              "      <td>...</td>\n",
              "      <td>...</td>\n",
              "    </tr>\n",
              "    <tr>\n",
              "      <th>343</th>\n",
              "      <td>Rudersdal</td>\n",
              "      <td>3460</td>\n",
              "      <td>56133</td>\n",
              "      <td>Euphoriants Act</td>\n",
              "      <td>0.000873</td>\n",
              "      <td>0.000624</td>\n",
              "      <td>0.000713</td>\n",
              "      <td>0.000730</td>\n",
              "    </tr>\n",
              "    <tr>\n",
              "      <th>344</th>\n",
              "      <td>Rudersdal</td>\n",
              "      <td>3460</td>\n",
              "      <td>56133</td>\n",
              "      <td>The Offensive Weapons Act</td>\n",
              "      <td>0.001122</td>\n",
              "      <td>0.000944</td>\n",
              "      <td>0.000303</td>\n",
              "      <td>0.000552</td>\n",
              "    </tr>\n",
              "    <tr>\n",
              "      <th>345</th>\n",
              "      <td>Rudersdal</td>\n",
              "      <td>3460</td>\n",
              "      <td>56133</td>\n",
              "      <td>Other special acts in criminal law</td>\n",
              "      <td>0.005843</td>\n",
              "      <td>0.003224</td>\n",
              "      <td>0.003848</td>\n",
              "      <td>0.001514</td>\n",
              "    </tr>\n",
              "    <tr>\n",
              "      <th>346</th>\n",
              "      <td>Rudersdal</td>\n",
              "      <td>3460</td>\n",
              "      <td>56133</td>\n",
              "      <td>Legislation on animals, hunting, etc.</td>\n",
              "      <td>0.000641</td>\n",
              "      <td>0.000962</td>\n",
              "      <td>0.000748</td>\n",
              "      <td>0.000713</td>\n",
              "    </tr>\n",
              "    <tr>\n",
              "      <th>347</th>\n",
              "      <td>Rudersdal</td>\n",
              "      <td>3460</td>\n",
              "      <td>56133</td>\n",
              "      <td>Legislation on employment, transport, etc.</td>\n",
              "      <td>0.000517</td>\n",
              "      <td>0.001033</td>\n",
              "      <td>0.000962</td>\n",
              "      <td>0.000695</td>\n",
              "    </tr>\n",
              "  </tbody>\n",
              "</table>\n",
              "<p>348 rows × 8 columns</p>\n",
              "</div>"
            ],
            "text/plain": [
              "          REGION  Postcode  ...  crime_per_capita(2017) crime_per_capita(2016)\n",
              "0    Albertslund      2620  ...                0.084600               0.092233\n",
              "1    Albertslund      2620  ...                0.063267               0.072900\n",
              "2    Albertslund      2620  ...                0.005000               0.003767\n",
              "3    Albertslund      2620  ...                0.000767               0.000567\n",
              "4    Albertslund      2620  ...                0.002133               0.001667\n",
              "..           ...       ...  ...                     ...                    ...\n",
              "343    Rudersdal      3460  ...                0.000713               0.000730\n",
              "344    Rudersdal      3460  ...                0.000303               0.000552\n",
              "345    Rudersdal      3460  ...                0.003848               0.001514\n",
              "346    Rudersdal      3460  ...                0.000748               0.000713\n",
              "347    Rudersdal      3460  ...                0.000962               0.000695\n",
              "\n",
              "[348 rows x 8 columns]"
            ]
          },
          "metadata": {
            "tags": []
          },
          "execution_count": 93
        }
      ]
    },
    {
      "cell_type": "code",
      "metadata": {
        "id": "yApk9eG4JePB",
        "colab": {
          "base_uri": "https://localhost:8080/"
        },
        "outputId": "2ff8d9ad-9ea3-49f3-bfe3-fab8d1ffa10b"
      },
      "source": [
        "import geocoder\n",
        "\n",
        "def get_lati_long(postal_code):\n",
        "    \n",
        "    # initialize your variable to None\n",
        "\n",
        "    lati_long_coord = None\n",
        "    \n",
        "    # loop until you get the coordinates\n",
        "    while(lati_long_coord is None):\n",
        "        g = geocoder.arcgis('{}, Denmark'.format(postal_code))\n",
        "        lati_long_coord = g.latlng\n",
        "    return lati_long_coord\n",
        "    \n",
        "get_lati_long('2860')"
      ],
      "execution_count": 98,
      "outputs": [
        {
          "output_type": "execute_result",
          "data": {
            "text/plain": [
              "[55.73628082600004, 12.483338359000072]"
            ]
          },
          "metadata": {
            "tags": []
          },
          "execution_count": 98
        }
      ]
    },
    {
      "cell_type": "code",
      "metadata": {
        "id": "BLTHTq6QPeT1"
      },
      "source": [
        "# Retrieving Postal Code Co-ordinates\n",
        "postal_codes = hd_new['Postcode']    \n",
        "coord = [ get_lati_long(postal_code) for postal_code in postal_codes.tolist() ]"
      ],
      "execution_count": 99,
      "outputs": []
    },
    {
      "cell_type": "code",
      "metadata": {
        "id": "IzIU8s4GPrX7",
        "colab": {
          "base_uri": "https://localhost:8080/"
        },
        "outputId": "cb7fc2cc-3ee0-4cb2-ad4b-437d3d736c65"
      },
      "source": [
        "# Adding Columns Latitude & Longitude\n",
        "df_coord = pd.DataFrame(coord, columns=['Latitude', 'Longitude'])\n",
        "hd_new['Latitude'] = df_coord['Latitude']\n",
        "hd_new['Longitude'] = df_coord['Longitude']"
      ],
      "execution_count": 102,
      "outputs": [
        {
          "output_type": "stream",
          "text": [
            "/usr/local/lib/python3.7/dist-packages/ipykernel_launcher.py:3: SettingWithCopyWarning: \n",
            "A value is trying to be set on a copy of a slice from a DataFrame.\n",
            "Try using .loc[row_indexer,col_indexer] = value instead\n",
            "\n",
            "See the caveats in the documentation: https://pandas.pydata.org/pandas-docs/stable/user_guide/indexing.html#returning-a-view-versus-a-copy\n",
            "  This is separate from the ipykernel package so we can avoid doing imports until\n",
            "/usr/local/lib/python3.7/dist-packages/ipykernel_launcher.py:4: SettingWithCopyWarning: \n",
            "A value is trying to be set on a copy of a slice from a DataFrame.\n",
            "Try using .loc[row_indexer,col_indexer] = value instead\n",
            "\n",
            "See the caveats in the documentation: https://pandas.pydata.org/pandas-docs/stable/user_guide/indexing.html#returning-a-view-versus-a-copy\n",
            "  after removing the cwd from sys.path.\n"
          ],
          "name": "stderr"
        }
      ]
    },
    {
      "cell_type": "code",
      "metadata": {
        "id": "XFVsKvZwP3j3",
        "colab": {
          "base_uri": "https://localhost:8080/",
          "height": 450
        },
        "outputId": "7607b6a4-e5e1-4f2b-85bb-3a3ee1a28982"
      },
      "source": [
        "hd_new.to_excel('/content/drive/My Drive/PYTHON   SQL   EXCEL/postcode.xlsx')\n",
        "hd_new"
      ],
      "execution_count": 104,
      "outputs": [
        {
          "output_type": "execute_result",
          "data": {
            "text/html": [
              "<div>\n",
              "<style scoped>\n",
              "    .dataframe tbody tr th:only-of-type {\n",
              "        vertical-align: middle;\n",
              "    }\n",
              "\n",
              "    .dataframe tbody tr th {\n",
              "        vertical-align: top;\n",
              "    }\n",
              "\n",
              "    .dataframe thead th {\n",
              "        text-align: right;\n",
              "    }\n",
              "</style>\n",
              "<table border=\"1\" class=\"dataframe\">\n",
              "  <thead>\n",
              "    <tr style=\"text-align: right;\">\n",
              "      <th></th>\n",
              "      <th>REGION</th>\n",
              "      <th>Postcode</th>\n",
              "      <th>Population</th>\n",
              "      <th>TYPE OF OFFENCE</th>\n",
              "      <th>crime_per_capita(2019)</th>\n",
              "      <th>crime_per_capita(2018)</th>\n",
              "      <th>crime_per_capita(2017)</th>\n",
              "      <th>crime_per_capita(2016)</th>\n",
              "      <th>Latitude</th>\n",
              "      <th>Longitude</th>\n",
              "    </tr>\n",
              "  </thead>\n",
              "  <tbody>\n",
              "    <tr>\n",
              "      <th>0</th>\n",
              "      <td>Albertslund</td>\n",
              "      <td>2620</td>\n",
              "      <td>30000</td>\n",
              "      <td>Nature of the offence, total</td>\n",
              "      <td>0.065200</td>\n",
              "      <td>0.083567</td>\n",
              "      <td>0.084600</td>\n",
              "      <td>0.092233</td>\n",
              "      <td>55.675878</td>\n",
              "      <td>12.345301</td>\n",
              "    </tr>\n",
              "    <tr>\n",
              "      <th>1</th>\n",
              "      <td>Albertslund</td>\n",
              "      <td>2620</td>\n",
              "      <td>30000</td>\n",
              "      <td>Penal Code, total</td>\n",
              "      <td>0.044833</td>\n",
              "      <td>0.059367</td>\n",
              "      <td>0.063267</td>\n",
              "      <td>0.072900</td>\n",
              "      <td>55.675878</td>\n",
              "      <td>12.345301</td>\n",
              "    </tr>\n",
              "    <tr>\n",
              "      <th>2</th>\n",
              "      <td>Albertslund</td>\n",
              "      <td>2620</td>\n",
              "      <td>30000</td>\n",
              "      <td>Crimes of violence, total</td>\n",
              "      <td>0.004500</td>\n",
              "      <td>0.006233</td>\n",
              "      <td>0.005000</td>\n",
              "      <td>0.003767</td>\n",
              "      <td>55.675878</td>\n",
              "      <td>12.345301</td>\n",
              "    </tr>\n",
              "    <tr>\n",
              "      <th>3</th>\n",
              "      <td>Albertslund</td>\n",
              "      <td>2620</td>\n",
              "      <td>30000</td>\n",
              "      <td>Violence against public authority</td>\n",
              "      <td>0.000767</td>\n",
              "      <td>0.001333</td>\n",
              "      <td>0.000767</td>\n",
              "      <td>0.000567</td>\n",
              "      <td>55.675878</td>\n",
              "      <td>12.345301</td>\n",
              "    </tr>\n",
              "    <tr>\n",
              "      <th>4</th>\n",
              "      <td>Albertslund</td>\n",
              "      <td>2620</td>\n",
              "      <td>30000</td>\n",
              "      <td>Common assault</td>\n",
              "      <td>0.001733</td>\n",
              "      <td>0.002667</td>\n",
              "      <td>0.002133</td>\n",
              "      <td>0.001667</td>\n",
              "      <td>55.675878</td>\n",
              "      <td>12.345301</td>\n",
              "    </tr>\n",
              "    <tr>\n",
              "      <th>...</th>\n",
              "      <td>...</td>\n",
              "      <td>...</td>\n",
              "      <td>...</td>\n",
              "      <td>...</td>\n",
              "      <td>...</td>\n",
              "      <td>...</td>\n",
              "      <td>...</td>\n",
              "      <td>...</td>\n",
              "      <td>...</td>\n",
              "      <td>...</td>\n",
              "    </tr>\n",
              "    <tr>\n",
              "      <th>343</th>\n",
              "      <td>Rudersdal</td>\n",
              "      <td>3460</td>\n",
              "      <td>56133</td>\n",
              "      <td>Euphoriants Act</td>\n",
              "      <td>0.000873</td>\n",
              "      <td>0.000624</td>\n",
              "      <td>0.000713</td>\n",
              "      <td>0.000730</td>\n",
              "      <td>55.844311</td>\n",
              "      <td>12.419063</td>\n",
              "    </tr>\n",
              "    <tr>\n",
              "      <th>344</th>\n",
              "      <td>Rudersdal</td>\n",
              "      <td>3460</td>\n",
              "      <td>56133</td>\n",
              "      <td>The Offensive Weapons Act</td>\n",
              "      <td>0.001122</td>\n",
              "      <td>0.000944</td>\n",
              "      <td>0.000303</td>\n",
              "      <td>0.000552</td>\n",
              "      <td>55.844311</td>\n",
              "      <td>12.419063</td>\n",
              "    </tr>\n",
              "    <tr>\n",
              "      <th>345</th>\n",
              "      <td>Rudersdal</td>\n",
              "      <td>3460</td>\n",
              "      <td>56133</td>\n",
              "      <td>Other special acts in criminal law</td>\n",
              "      <td>0.005843</td>\n",
              "      <td>0.003224</td>\n",
              "      <td>0.003848</td>\n",
              "      <td>0.001514</td>\n",
              "      <td>55.844311</td>\n",
              "      <td>12.419063</td>\n",
              "    </tr>\n",
              "    <tr>\n",
              "      <th>346</th>\n",
              "      <td>Rudersdal</td>\n",
              "      <td>3460</td>\n",
              "      <td>56133</td>\n",
              "      <td>Legislation on animals, hunting, etc.</td>\n",
              "      <td>0.000641</td>\n",
              "      <td>0.000962</td>\n",
              "      <td>0.000748</td>\n",
              "      <td>0.000713</td>\n",
              "      <td>55.844311</td>\n",
              "      <td>12.419063</td>\n",
              "    </tr>\n",
              "    <tr>\n",
              "      <th>347</th>\n",
              "      <td>Rudersdal</td>\n",
              "      <td>3460</td>\n",
              "      <td>56133</td>\n",
              "      <td>Legislation on employment, transport, etc.</td>\n",
              "      <td>0.000517</td>\n",
              "      <td>0.001033</td>\n",
              "      <td>0.000962</td>\n",
              "      <td>0.000695</td>\n",
              "      <td>55.844311</td>\n",
              "      <td>12.419063</td>\n",
              "    </tr>\n",
              "  </tbody>\n",
              "</table>\n",
              "<p>348 rows × 10 columns</p>\n",
              "</div>"
            ],
            "text/plain": [
              "          REGION  Postcode  ...   Latitude  Longitude\n",
              "0    Albertslund      2620  ...  55.675878  12.345301\n",
              "1    Albertslund      2620  ...  55.675878  12.345301\n",
              "2    Albertslund      2620  ...  55.675878  12.345301\n",
              "3    Albertslund      2620  ...  55.675878  12.345301\n",
              "4    Albertslund      2620  ...  55.675878  12.345301\n",
              "..           ...       ...  ...        ...        ...\n",
              "343    Rudersdal      3460  ...  55.844311  12.419063\n",
              "344    Rudersdal      3460  ...  55.844311  12.419063\n",
              "345    Rudersdal      3460  ...  55.844311  12.419063\n",
              "346    Rudersdal      3460  ...  55.844311  12.419063\n",
              "347    Rudersdal      3460  ...  55.844311  12.419063\n",
              "\n",
              "[348 rows x 10 columns]"
            ]
          },
          "metadata": {
            "tags": []
          },
          "execution_count": 104
        }
      ]
    },
    {
      "cell_type": "markdown",
      "metadata": {
        "id": "-YyQGJhvb4v7"
      },
      "source": [
        "Tableau Dashboard : [link text](https://public.tableau.com/views/RegionHovedstaden/Regionhovedstaden?:language=en-US&:display_count=n&:origin=viz_share_link)"
      ]
    },
    {
      "cell_type": "code",
      "metadata": {
        "id": "WzJ5X9thciKX"
      },
      "source": [
        ""
      ],
      "execution_count": null,
      "outputs": []
    }
  ]
}